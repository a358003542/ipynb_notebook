{
 "cells": [
  {
   "cell_type": "code",
   "execution_count": 1,
   "metadata": {},
   "outputs": [],
   "source": [
    "import xlwings as xw\n",
    "import pandas as pd\n",
    "import numpy as np\n",
    "import matplotlib.pyplot as plt\n",
    "\n",
    "from datetime import datetime\n",
    "from scipy.optimize import curve_fit\n",
    "from sklearn.metrics import r2_score\n"
   ]
  },
  {
   "cell_type": "code",
   "execution_count": null,
   "metadata": {},
   "outputs": [
    {
     "data": {
      "text/plain": [
       "'gold.xlsx'"
      ]
     },
     "execution_count": 2,
     "metadata": {},
     "output_type": "execute_result"
    }
   ],
   "source": [
    "book = xw.Book(\"gold.xlsx\")\n",
    "book.name"
   ]
  },
  {
   "cell_type": "code",
   "execution_count": 3,
   "metadata": {},
   "outputs": [
    {
     "data": {
      "text/plain": [
       "Sheets([<Sheet [gold.xlsx]预测值分析>, <Sheet [gold.xlsx]指数合理性判断>])"
      ]
     },
     "execution_count": 3,
     "metadata": {},
     "output_type": "execute_result"
    }
   ],
   "source": [
    "book.sheets"
   ]
  },
  {
   "cell_type": "code",
   "execution_count": 4,
   "metadata": {},
   "outputs": [],
   "source": [
    "sheet1 = book.sheets['预测值分析']\n",
    "sheet2 = book.sheets['指数合理性判断']"
   ]
  },
  {
   "cell_type": "code",
   "execution_count": 5,
   "metadata": {},
   "outputs": [
    {
     "data": {
      "application/vnd.microsoft.datawrangler.viewer.v0+json": {
       "columns": [
        {
         "name": "日期",
         "rawType": "datetime64[ns]",
         "type": "datetime"
        },
        {
         "name": "收盘价",
         "rawType": "float64",
         "type": "float"
        }
       ],
       "conversionMethod": "pd.DataFrame",
       "ref": "1e95749b-99f2-473b-947d-288c21fc1c4a",
       "rows": [
        [
         "2015-04-30 00:00:00",
         "1183.0"
        ],
        [
         "2015-05-31 00:00:00",
         "1189.0"
        ],
        [
         "2015-06-30 00:00:00",
         "1172.0"
        ],
        [
         "2015-07-31 00:00:00",
         "1095.0"
        ],
        [
         "2015-08-31 00:00:00",
         "1134.0"
        ],
        [
         "2015-09-30 00:00:00",
         "1114.0"
        ],
        [
         "2015-10-31 00:00:00",
         "1142.0"
        ],
        [
         "2015-11-30 00:00:00",
         "1064.0"
        ],
        [
         "2015-12-31 00:00:00",
         "1060.0"
        ],
        [
         "2016-01-31 00:00:00",
         "1117.0"
        ],
        [
         "2016-02-29 00:00:00",
         "1237.0"
        ],
        [
         "2016-03-31 00:00:00",
         "1232.0"
        ],
        [
         "2016-04-30 00:00:00",
         "1293.0"
        ],
        [
         "2016-05-31 00:00:00",
         "1214.0"
        ],
        [
         "2016-06-30 00:00:00",
         "1321.0"
        ],
        [
         "2016-07-31 00:00:00",
         "1350.0"
        ],
        [
         "2016-08-31 00:00:00",
         "1308.0"
        ],
        [
         "2016-09-30 00:00:00",
         "1315.0"
        ],
        [
         "2016-10-31 00:00:00",
         "1277.0"
        ],
        [
         "2016-11-30 00:00:00",
         "1172.0"
        ],
        [
         "2016-12-31 00:00:00",
         "1151.0"
        ],
        [
         "2017-01-31 00:00:00",
         "1210.0"
        ],
        [
         "2017-02-28 00:00:00",
         "1248.0"
        ],
        [
         "2017-03-31 00:00:00",
         "1248.0"
        ],
        [
         "2017-04-30 00:00:00",
         "1267.0"
        ],
        [
         "2017-05-31 00:00:00",
         "1268.0"
        ],
        [
         "2017-06-30 00:00:00",
         "1241.0"
        ],
        [
         "2017-07-31 00:00:00",
         "1269.0"
        ],
        [
         "2017-08-31 00:00:00",
         "1321.0"
        ],
        [
         "2017-09-30 00:00:00",
         "1279.0"
        ],
        [
         "2017-10-31 00:00:00",
         "1271.0"
        ],
        [
         "2017-11-30 00:00:00",
         "1274.0"
        ],
        [
         "2017-12-31 00:00:00",
         "1302.0"
        ],
        [
         "2018-01-31 00:00:00",
         "1344.0"
        ],
        [
         "2018-02-28 00:00:00",
         "1317.0"
        ],
        [
         "2018-03-31 00:00:00",
         "1324.0"
        ],
        [
         "2018-04-30 00:00:00",
         "1315.0"
        ],
        [
         "2018-05-31 00:00:00",
         "1297.0"
        ],
        [
         "2018-06-30 00:00:00",
         "1252.0"
        ],
        [
         "2018-07-31 00:00:00",
         "1223.0"
        ],
        [
         "2018-08-31 00:00:00",
         "1201.0"
        ],
        [
         "2018-09-30 00:00:00",
         "1191.0"
        ],
        [
         "2018-10-31 00:00:00",
         "1214.0"
        ],
        [
         "2018-11-30 00:00:00",
         "1221.0"
        ],
        [
         "2018-12-31 00:00:00",
         "1282.0"
        ],
        [
         "2019-01-31 00:00:00",
         "1320.0"
        ],
        [
         "2019-02-28 00:00:00",
         "1312.0"
        ],
        [
         "2019-03-31 00:00:00",
         "1291.0"
        ],
        [
         "2019-04-30 00:00:00",
         "1283.0"
        ],
        [
         "2019-05-31 00:00:00",
         "1305.0"
        ]
       ],
       "shape": {
        "columns": 1,
        "rows": 121
       }
      },
      "text/html": [
       "<div>\n",
       "<style scoped>\n",
       "    .dataframe tbody tr th:only-of-type {\n",
       "        vertical-align: middle;\n",
       "    }\n",
       "\n",
       "    .dataframe tbody tr th {\n",
       "        vertical-align: top;\n",
       "    }\n",
       "\n",
       "    .dataframe thead th {\n",
       "        text-align: right;\n",
       "    }\n",
       "</style>\n",
       "<table border=\"1\" class=\"dataframe\">\n",
       "  <thead>\n",
       "    <tr style=\"text-align: right;\">\n",
       "      <th></th>\n",
       "      <th>收盘价</th>\n",
       "    </tr>\n",
       "    <tr>\n",
       "      <th>日期</th>\n",
       "      <th></th>\n",
       "    </tr>\n",
       "  </thead>\n",
       "  <tbody>\n",
       "    <tr>\n",
       "      <th>2015-04-30</th>\n",
       "      <td>1183.0</td>\n",
       "    </tr>\n",
       "    <tr>\n",
       "      <th>2015-05-31</th>\n",
       "      <td>1189.0</td>\n",
       "    </tr>\n",
       "    <tr>\n",
       "      <th>2015-06-30</th>\n",
       "      <td>1172.0</td>\n",
       "    </tr>\n",
       "    <tr>\n",
       "      <th>2015-07-31</th>\n",
       "      <td>1095.0</td>\n",
       "    </tr>\n",
       "    <tr>\n",
       "      <th>2015-08-31</th>\n",
       "      <td>1134.0</td>\n",
       "    </tr>\n",
       "    <tr>\n",
       "      <th>...</th>\n",
       "      <td>...</td>\n",
       "    </tr>\n",
       "    <tr>\n",
       "      <th>2024-12-31</th>\n",
       "      <td>2624.0</td>\n",
       "    </tr>\n",
       "    <tr>\n",
       "      <th>2025-01-31</th>\n",
       "      <td>2797.0</td>\n",
       "    </tr>\n",
       "    <tr>\n",
       "      <th>2025-02-28</th>\n",
       "      <td>2856.0</td>\n",
       "    </tr>\n",
       "    <tr>\n",
       "      <th>2025-03-31</th>\n",
       "      <td>3120.0</td>\n",
       "    </tr>\n",
       "    <tr>\n",
       "      <th>2025-04-30</th>\n",
       "      <td>3272.0</td>\n",
       "    </tr>\n",
       "  </tbody>\n",
       "</table>\n",
       "<p>121 rows × 1 columns</p>\n",
       "</div>"
      ],
      "text/plain": [
       "               收盘价\n",
       "日期                \n",
       "2015-04-30  1183.0\n",
       "2015-05-31  1189.0\n",
       "2015-06-30  1172.0\n",
       "2015-07-31  1095.0\n",
       "2015-08-31  1134.0\n",
       "...            ...\n",
       "2024-12-31  2624.0\n",
       "2025-01-31  2797.0\n",
       "2025-02-28  2856.0\n",
       "2025-03-31  3120.0\n",
       "2025-04-30  3272.0\n",
       "\n",
       "[121 rows x 1 columns]"
      ]
     },
     "execution_count": 5,
     "metadata": {},
     "output_type": "execute_result"
    }
   ],
   "source": [
    "df1 = sheet1[\"A1\"].expand().options(pd.DataFrame, index=True).value\n",
    "df1"
   ]
  },
  {
   "cell_type": "code",
   "execution_count": 6,
   "metadata": {},
   "outputs": [
    {
     "data": {
      "text/plain": [
       "DatetimeIndex(['2015-04-30', '2015-05-31', '2015-06-30', '2015-07-31',\n",
       "               '2015-08-31', '2015-09-30', '2015-10-31', '2015-11-30',\n",
       "               '2015-12-31', '2016-01-31',\n",
       "               ...\n",
       "               '2024-07-31', '2024-08-31', '2024-09-30', '2024-10-31',\n",
       "               '2024-11-29', '2024-12-31', '2025-01-31', '2025-02-28',\n",
       "               '2025-03-31', '2025-04-30'],\n",
       "              dtype='datetime64[ns]', name='日期', length=121, freq=None)"
      ]
     },
     "execution_count": 6,
     "metadata": {},
     "output_type": "execute_result"
    }
   ],
   "source": [
    "df1.index"
   ]
  },
  {
   "cell_type": "code",
   "execution_count": 7,
   "metadata": {},
   "outputs": [
    {
     "data": {
      "text/plain": [
       "Index(['收盘价'], dtype='object')"
      ]
     },
     "execution_count": 7,
     "metadata": {},
     "output_type": "execute_result"
    }
   ],
   "source": [
    "df1.columns"
   ]
  },
  {
   "cell_type": "code",
   "execution_count": 8,
   "metadata": {},
   "outputs": [
    {
     "data": {
      "text/plain": [
       "收盘价    float64\n",
       "dtype: object"
      ]
     },
     "execution_count": 8,
     "metadata": {},
     "output_type": "execute_result"
    }
   ],
   "source": [
    "df1.dtypes"
   ]
  },
  {
   "cell_type": "code",
   "execution_count": 9,
   "metadata": {},
   "outputs": [
    {
     "name": "stdout",
     "output_type": "stream",
     "text": [
      "[42124 42155 42185 42216 42247 42277 42308 42338 42369 42400 42429 42460\n",
      " 42490 42521 42551 42582 42613 42643 42674 42704 42735 42766 42794 42825\n",
      " 42855 42886 42916 42947 42978 43008 43039 43069 43100 43131 43159 43190\n",
      " 43220 43251 43281 43312 43343 43373 43404 43434 43465 43496 43524 43555\n",
      " 43585 43616 43646 43677 43708 43738 43769 43799 43830 43861 43890 43921\n",
      " 43951 43982 44012 44043 44074 44104 44135 44165 44196 44227 44255 44286\n",
      " 44316 44347 44377 44408 44439 44469 44500 44530 44561 44592 44620 44651\n",
      " 44681 44712 44742 44773 44804 44834 44865 44895 44926 44957 44985 45016\n",
      " 45046 45077 45107 45138 45169 45199 45230 45260 45291 45322 45351 45382\n",
      " 45412 45443 45473 45504 45535 45565 45596 45625 45657 45688 45716 45747\n",
      " 45777]\n"
     ]
    }
   ],
   "source": [
    "from pywander.math.excel import to_excel_int_time_v\n",
    "\n",
    "print(to_excel_int_time_v(df1.index.to_pydatetime()))"
   ]
  },
  {
   "cell_type": "code",
   "execution_count": 10,
   "metadata": {},
   "outputs": [
    {
     "data": {
      "application/vnd.microsoft.datawrangler.viewer.v0+json": {
       "columns": [
        {
         "name": "日期",
         "rawType": "datetime64[ns]",
         "type": "datetime"
        },
        {
         "name": "收盘价",
         "rawType": "float64",
         "type": "float"
        },
        {
         "name": "int_time",
         "rawType": "int64",
         "type": "integer"
        }
       ],
       "conversionMethod": "pd.DataFrame",
       "ref": "1b9c17d5-48fe-4723-a172-81bb63d5fec9",
       "rows": [
        [
         "2015-04-30 00:00:00",
         "1183.0",
         "42124"
        ],
        [
         "2015-05-31 00:00:00",
         "1189.0",
         "42155"
        ],
        [
         "2015-06-30 00:00:00",
         "1172.0",
         "42185"
        ],
        [
         "2015-07-31 00:00:00",
         "1095.0",
         "42216"
        ],
        [
         "2015-08-31 00:00:00",
         "1134.0",
         "42247"
        ],
        [
         "2015-09-30 00:00:00",
         "1114.0",
         "42277"
        ],
        [
         "2015-10-31 00:00:00",
         "1142.0",
         "42308"
        ],
        [
         "2015-11-30 00:00:00",
         "1064.0",
         "42338"
        ],
        [
         "2015-12-31 00:00:00",
         "1060.0",
         "42369"
        ],
        [
         "2016-01-31 00:00:00",
         "1117.0",
         "42400"
        ],
        [
         "2016-02-29 00:00:00",
         "1237.0",
         "42429"
        ],
        [
         "2016-03-31 00:00:00",
         "1232.0",
         "42460"
        ],
        [
         "2016-04-30 00:00:00",
         "1293.0",
         "42490"
        ],
        [
         "2016-05-31 00:00:00",
         "1214.0",
         "42521"
        ],
        [
         "2016-06-30 00:00:00",
         "1321.0",
         "42551"
        ],
        [
         "2016-07-31 00:00:00",
         "1350.0",
         "42582"
        ],
        [
         "2016-08-31 00:00:00",
         "1308.0",
         "42613"
        ],
        [
         "2016-09-30 00:00:00",
         "1315.0",
         "42643"
        ],
        [
         "2016-10-31 00:00:00",
         "1277.0",
         "42674"
        ],
        [
         "2016-11-30 00:00:00",
         "1172.0",
         "42704"
        ],
        [
         "2016-12-31 00:00:00",
         "1151.0",
         "42735"
        ],
        [
         "2017-01-31 00:00:00",
         "1210.0",
         "42766"
        ],
        [
         "2017-02-28 00:00:00",
         "1248.0",
         "42794"
        ],
        [
         "2017-03-31 00:00:00",
         "1248.0",
         "42825"
        ],
        [
         "2017-04-30 00:00:00",
         "1267.0",
         "42855"
        ],
        [
         "2017-05-31 00:00:00",
         "1268.0",
         "42886"
        ],
        [
         "2017-06-30 00:00:00",
         "1241.0",
         "42916"
        ],
        [
         "2017-07-31 00:00:00",
         "1269.0",
         "42947"
        ],
        [
         "2017-08-31 00:00:00",
         "1321.0",
         "42978"
        ],
        [
         "2017-09-30 00:00:00",
         "1279.0",
         "43008"
        ],
        [
         "2017-10-31 00:00:00",
         "1271.0",
         "43039"
        ],
        [
         "2017-11-30 00:00:00",
         "1274.0",
         "43069"
        ],
        [
         "2017-12-31 00:00:00",
         "1302.0",
         "43100"
        ],
        [
         "2018-01-31 00:00:00",
         "1344.0",
         "43131"
        ],
        [
         "2018-02-28 00:00:00",
         "1317.0",
         "43159"
        ],
        [
         "2018-03-31 00:00:00",
         "1324.0",
         "43190"
        ],
        [
         "2018-04-30 00:00:00",
         "1315.0",
         "43220"
        ],
        [
         "2018-05-31 00:00:00",
         "1297.0",
         "43251"
        ],
        [
         "2018-06-30 00:00:00",
         "1252.0",
         "43281"
        ],
        [
         "2018-07-31 00:00:00",
         "1223.0",
         "43312"
        ],
        [
         "2018-08-31 00:00:00",
         "1201.0",
         "43343"
        ],
        [
         "2018-09-30 00:00:00",
         "1191.0",
         "43373"
        ],
        [
         "2018-10-31 00:00:00",
         "1214.0",
         "43404"
        ],
        [
         "2018-11-30 00:00:00",
         "1221.0",
         "43434"
        ],
        [
         "2018-12-31 00:00:00",
         "1282.0",
         "43465"
        ],
        [
         "2019-01-31 00:00:00",
         "1320.0",
         "43496"
        ],
        [
         "2019-02-28 00:00:00",
         "1312.0",
         "43524"
        ],
        [
         "2019-03-31 00:00:00",
         "1291.0",
         "43555"
        ],
        [
         "2019-04-30 00:00:00",
         "1283.0",
         "43585"
        ],
        [
         "2019-05-31 00:00:00",
         "1305.0",
         "43616"
        ]
       ],
       "shape": {
        "columns": 2,
        "rows": 121
       }
      },
      "text/html": [
       "<div>\n",
       "<style scoped>\n",
       "    .dataframe tbody tr th:only-of-type {\n",
       "        vertical-align: middle;\n",
       "    }\n",
       "\n",
       "    .dataframe tbody tr th {\n",
       "        vertical-align: top;\n",
       "    }\n",
       "\n",
       "    .dataframe thead th {\n",
       "        text-align: right;\n",
       "    }\n",
       "</style>\n",
       "<table border=\"1\" class=\"dataframe\">\n",
       "  <thead>\n",
       "    <tr style=\"text-align: right;\">\n",
       "      <th></th>\n",
       "      <th>收盘价</th>\n",
       "      <th>int_time</th>\n",
       "    </tr>\n",
       "    <tr>\n",
       "      <th>日期</th>\n",
       "      <th></th>\n",
       "      <th></th>\n",
       "    </tr>\n",
       "  </thead>\n",
       "  <tbody>\n",
       "    <tr>\n",
       "      <th>2015-04-30</th>\n",
       "      <td>1183.0</td>\n",
       "      <td>42124</td>\n",
       "    </tr>\n",
       "    <tr>\n",
       "      <th>2015-05-31</th>\n",
       "      <td>1189.0</td>\n",
       "      <td>42155</td>\n",
       "    </tr>\n",
       "    <tr>\n",
       "      <th>2015-06-30</th>\n",
       "      <td>1172.0</td>\n",
       "      <td>42185</td>\n",
       "    </tr>\n",
       "    <tr>\n",
       "      <th>2015-07-31</th>\n",
       "      <td>1095.0</td>\n",
       "      <td>42216</td>\n",
       "    </tr>\n",
       "    <tr>\n",
       "      <th>2015-08-31</th>\n",
       "      <td>1134.0</td>\n",
       "      <td>42247</td>\n",
       "    </tr>\n",
       "    <tr>\n",
       "      <th>...</th>\n",
       "      <td>...</td>\n",
       "      <td>...</td>\n",
       "    </tr>\n",
       "    <tr>\n",
       "      <th>2024-12-31</th>\n",
       "      <td>2624.0</td>\n",
       "      <td>45657</td>\n",
       "    </tr>\n",
       "    <tr>\n",
       "      <th>2025-01-31</th>\n",
       "      <td>2797.0</td>\n",
       "      <td>45688</td>\n",
       "    </tr>\n",
       "    <tr>\n",
       "      <th>2025-02-28</th>\n",
       "      <td>2856.0</td>\n",
       "      <td>45716</td>\n",
       "    </tr>\n",
       "    <tr>\n",
       "      <th>2025-03-31</th>\n",
       "      <td>3120.0</td>\n",
       "      <td>45747</td>\n",
       "    </tr>\n",
       "    <tr>\n",
       "      <th>2025-04-30</th>\n",
       "      <td>3272.0</td>\n",
       "      <td>45777</td>\n",
       "    </tr>\n",
       "  </tbody>\n",
       "</table>\n",
       "<p>121 rows × 2 columns</p>\n",
       "</div>"
      ],
      "text/plain": [
       "               收盘价  int_time\n",
       "日期                          \n",
       "2015-04-30  1183.0     42124\n",
       "2015-05-31  1189.0     42155\n",
       "2015-06-30  1172.0     42185\n",
       "2015-07-31  1095.0     42216\n",
       "2015-08-31  1134.0     42247\n",
       "...            ...       ...\n",
       "2024-12-31  2624.0     45657\n",
       "2025-01-31  2797.0     45688\n",
       "2025-02-28  2856.0     45716\n",
       "2025-03-31  3120.0     45747\n",
       "2025-04-30  3272.0     45777\n",
       "\n",
       "[121 rows x 2 columns]"
      ]
     },
     "execution_count": 10,
     "metadata": {},
     "output_type": "execute_result"
    }
   ],
   "source": [
    "\n",
    "df1['int_time'] = to_excel_int_time_v(df1.index.to_pydatetime())\n",
    "df1"
   ]
  },
  {
   "cell_type": "code",
   "execution_count": 11,
   "metadata": {},
   "outputs": [
    {
     "data": {
      "text/plain": [
       "array([1183., 1189., 1172., 1095., 1134., 1114., 1142., 1064., 1060.,\n",
       "       1117., 1237., 1232., 1293., 1214., 1321., 1350., 1308., 1315.,\n",
       "       1277., 1172., 1151., 1210., 1248., 1248., 1267., 1268., 1241.,\n",
       "       1269., 1321., 1279., 1271., 1274., 1302., 1344., 1317., 1324.,\n",
       "       1315., 1297., 1252., 1223., 1201., 1191., 1214., 1221., 1282.,\n",
       "       1320., 1312., 1291., 1283., 1305., 1409., 1413., 1519., 1472.,\n",
       "       1513., 1464., 1517., 1586., 1584., 1571., 1680., 1726., 1784.,\n",
       "       1974., 1969., 1885., 1878., 1777., 1896., 1846., 1733., 1707.,\n",
       "       1768., 1906., 1769., 1813., 1813., 1756., 1782., 1773., 1828.,\n",
       "       1796., 1907., 1937., 1896., 1837., 1806., 1765., 1710., 1659.,\n",
       "       1633., 1768., 1824., 1927., 1827., 1967., 1989., 1962., 1919.,\n",
       "       1964., 1939., 1848., 1982., 2035., 2062., 2037., 2043., 2232.,\n",
       "       2291., 2327., 2326., 2445., 2503., 2635., 2746., 2657., 2624.,\n",
       "       2797., 2856., 3120., 3272.])"
      ]
     },
     "execution_count": 11,
     "metadata": {},
     "output_type": "execute_result"
    }
   ],
   "source": [
    "df1['收盘价'].to_numpy()"
   ]
  },
  {
   "cell_type": "code",
   "execution_count": 12,
   "metadata": {},
   "outputs": [
    {
     "data": {
      "text/plain": [
       "array([42124, 42155, 42185, 42216, 42247, 42277, 42308, 42338, 42369,\n",
       "       42400, 42429, 42460, 42490, 42521, 42551, 42582, 42613, 42643,\n",
       "       42674, 42704, 42735, 42766, 42794, 42825, 42855, 42886, 42916,\n",
       "       42947, 42978, 43008, 43039, 43069, 43100, 43131, 43159, 43190,\n",
       "       43220, 43251, 43281, 43312, 43343, 43373, 43404, 43434, 43465,\n",
       "       43496, 43524, 43555, 43585, 43616, 43646, 43677, 43708, 43738,\n",
       "       43769, 43799, 43830, 43861, 43890, 43921, 43951, 43982, 44012,\n",
       "       44043, 44074, 44104, 44135, 44165, 44196, 44227, 44255, 44286,\n",
       "       44316, 44347, 44377, 44408, 44439, 44469, 44500, 44530, 44561,\n",
       "       44592, 44620, 44651, 44681, 44712, 44742, 44773, 44804, 44834,\n",
       "       44865, 44895, 44926, 44957, 44985, 45016, 45046, 45077, 45107,\n",
       "       45138, 45169, 45199, 45230, 45260, 45291, 45322, 45351, 45382,\n",
       "       45412, 45443, 45473, 45504, 45535, 45565, 45596, 45625, 45657,\n",
       "       45688, 45716, 45747, 45777])"
      ]
     },
     "execution_count": 12,
     "metadata": {},
     "output_type": "execute_result"
    }
   ],
   "source": [
    "df1['int_time'].to_numpy()"
   ]
  },
  {
   "cell_type": "markdown",
   "metadata": {},
   "source": [
    "## 趋势线模拟为什么选择指数函数\n",
    "认为其有一个内在的增加动力，随着时间有着一定的增长率，那么趋势线模拟可以选用指数函数。\n",
    "\n"
   ]
  },
  {
   "cell_type": "markdown",
   "metadata": {},
   "source": [
    "![img](趋势线指数规律.png)"
   ]
  },
  {
   "cell_type": "code",
   "execution_count": 13,
   "metadata": {},
   "outputs": [
    {
     "name": "stdout",
     "output_type": "stream",
     "text": [
      "[0.02575306 2.51132907]\n",
      "[[ 0.00011866 -0.00103503]\n",
      " [-0.00103503  0.00903231]]\n"
     ]
    },
    {
     "data": {
      "text/plain": [
       "0.8590111639310656"
      ]
     },
     "execution_count": 13,
     "metadata": {},
     "output_type": "execute_result"
    },
    {
     "data": {
      "image/png": "[encoded data removed]",
      "text/plain": [
       "<Figure size 640x480 with 1 Axes>"
      ]
     },
     "metadata": {},
     "output_type": "display_data"
    }
   ],
   "source": [
    "xdata = df1['int_time'].to_numpy()\n",
    "ydata = df1['收盘价'].to_numpy()\n",
    "xdata = xdata.astype(np.float64)\n",
    "\n",
    "def func(x, a, b):\n",
    "    # 因为np.exp接受过大的数会造成数值溢出 \n",
    "    # 必须先改造输入xdata 让其变得小一些\n",
    "    return a * np.exp(b * (x * 0.0001))\n",
    "\n",
    "fitting_opts = {\n",
    "    #'maxfev': 10,  # 设置最大迭代次数\n",
    "    #'method': 'lm'\n",
    "}\n",
    "\n",
    "popt, pcov = curve_fit(func, xdata, ydata , **fitting_opts)\n",
    "print(popt)\n",
    "print(pcov)\n",
    "\n",
    "# 实际曲线\n",
    "plt.plot(xdata, ydata, 'b-', label='data')\n",
    "\n",
    "# 预测曲线\n",
    "predict_ydata = func(xdata, *popt)\n",
    "plt.plot(xdata, predict_ydata, 'r-')\n",
    "\n",
    "r2_score(ydata, predict_ydata)"
   ]
  },
  {
   "cell_type": "code",
   "execution_count": 14,
   "metadata": {},
   "outputs": [],
   "source": [
    "book.names['Var_1'].delete()\n",
    "book.names['Var_2'].delete()"
   ]
  },
  {
   "cell_type": "code",
   "execution_count": 15,
   "metadata": {},
   "outputs": [
    {
     "name": "stdout",
     "output_type": "stream",
     "text": [
      "[<Name 'Var_1': =0.0257530557426679>, <Name 'Var_2': =2.51132906573386>]\n"
     ]
    }
   ],
   "source": [
    "book.names.add(\"Var_1\", popt[0])\n",
    "book.names.add(\"Var_2\", popt[1])\n",
    "print(book.names)"
   ]
  },
  {
   "cell_type": "code",
   "execution_count": 16,
   "metadata": {},
   "outputs": [],
   "source": [
    "book.save()\n",
    "#app = book.app\n",
    "#%app.quit()"
   ]
  }
 ],
 "metadata": {
  "kernelspec": {
   "display_name": ".venv",
   "language": "python",
   "name": "python3"
  },
  "language_info": {
   "codemirror_mode": {
    "name": "ipython",
    "version": 3
   },
   "file_extension": ".py",
   "mimetype": "text/x-python",
   "name": "python",
   "nbconvert_exporter": "python",
   "pygments_lexer": "ipython3",
   "version": "3.12.0"
  }
 },
 "nbformat": 4,
 "nbformat_minor": 4
}
