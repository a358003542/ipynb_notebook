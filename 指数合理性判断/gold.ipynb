{
 "cells": [
  {
   "cell_type": "code",
   "execution_count": 1,
   "metadata": {},
   "outputs": [],
   "source": [
    "import xlwings as xw\n",
    "import pandas as pd\n",
    "import numpy as np\n",
    "import matplotlib.pyplot as plt\n",
    "\n",
    "from datetime import datetime\n",
    "from scipy.optimize import curve_fit\n",
    "from sklearn.metrics import r2_score\n"
   ]
  },
  {
   "cell_type": "code",
   "execution_count": 2,
   "metadata": {},
   "outputs": [
    {
     "data": {
      "text/plain": [
       "'gold.xlsx'"
      ]
     },
     "execution_count": 2,
     "metadata": {},
     "output_type": "execute_result"
    }
   ],
   "source": [
    "book = xw.Book(\"D:\\\\OneDrive\\\\gold.xlsx\")\n",
    "book.name"
   ]
  },
  {
   "cell_type": "code",
   "execution_count": 3,
   "metadata": {},
   "outputs": [
    {
     "data": {
      "text/plain": [
       "Sheets([<Sheet [gold.xlsx]预测值分析>, <Sheet [gold.xlsx]指数合理性判断>])"
      ]
     },
     "execution_count": 3,
     "metadata": {},
     "output_type": "execute_result"
    }
   ],
   "source": [
    "book.sheets"
   ]
  },
  {
   "cell_type": "code",
   "execution_count": 4,
   "metadata": {},
   "outputs": [],
   "source": [
    "sheet1 = book.sheets['预测值分析']\n",
    "sheet2 = book.sheets['指数合理性判断']"
   ]
  },
  {
   "cell_type": "code",
   "execution_count": 5,
   "metadata": {},
   "outputs": [
    {
     "data": {
      "text/html": [
       "<div>\n",
       "<style scoped>\n",
       "    .dataframe tbody tr th:only-of-type {\n",
       "        vertical-align: middle;\n",
       "    }\n",
       "\n",
       "    .dataframe tbody tr th {\n",
       "        vertical-align: top;\n",
       "    }\n",
       "\n",
       "    .dataframe thead th {\n",
       "        text-align: right;\n",
       "    }\n",
       "</style>\n",
       "<table border=\"1\" class=\"dataframe\">\n",
       "  <thead>\n",
       "    <tr style=\"text-align: right;\">\n",
       "      <th></th>\n",
       "      <th>收盘价</th>\n",
       "    </tr>\n",
       "    <tr>\n",
       "      <th>日期</th>\n",
       "      <th></th>\n",
       "    </tr>\n",
       "  </thead>\n",
       "  <tbody>\n",
       "    <tr>\n",
       "      <th>2014-12-31</th>\n",
       "      <td>1183.0</td>\n",
       "    </tr>\n",
       "    <tr>\n",
       "      <th>2015-01-31</th>\n",
       "      <td>1282.0</td>\n",
       "    </tr>\n",
       "    <tr>\n",
       "      <th>2015-02-28</th>\n",
       "      <td>1212.0</td>\n",
       "    </tr>\n",
       "    <tr>\n",
       "      <th>2015-03-31</th>\n",
       "      <td>1183.0</td>\n",
       "    </tr>\n",
       "    <tr>\n",
       "      <th>2015-04-30</th>\n",
       "      <td>1183.0</td>\n",
       "    </tr>\n",
       "    <tr>\n",
       "      <th>...</th>\n",
       "      <td>...</td>\n",
       "    </tr>\n",
       "    <tr>\n",
       "      <th>2024-07-31</th>\n",
       "      <td>2445.0</td>\n",
       "    </tr>\n",
       "    <tr>\n",
       "      <th>2024-08-31</th>\n",
       "      <td>2503.0</td>\n",
       "    </tr>\n",
       "    <tr>\n",
       "      <th>2024-09-30</th>\n",
       "      <td>2635.0</td>\n",
       "    </tr>\n",
       "    <tr>\n",
       "      <th>2024-10-31</th>\n",
       "      <td>2746.0</td>\n",
       "    </tr>\n",
       "    <tr>\n",
       "      <th>2024-11-29</th>\n",
       "      <td>2657.0</td>\n",
       "    </tr>\n",
       "  </tbody>\n",
       "</table>\n",
       "<p>120 rows × 1 columns</p>\n",
       "</div>"
      ],
      "text/plain": [
       "               收盘价\n",
       "日期                \n",
       "2014-12-31  1183.0\n",
       "2015-01-31  1282.0\n",
       "2015-02-28  1212.0\n",
       "2015-03-31  1183.0\n",
       "2015-04-30  1183.0\n",
       "...            ...\n",
       "2024-07-31  2445.0\n",
       "2024-08-31  2503.0\n",
       "2024-09-30  2635.0\n",
       "2024-10-31  2746.0\n",
       "2024-11-29  2657.0\n",
       "\n",
       "[120 rows x 1 columns]"
      ]
     },
     "execution_count": 5,
     "metadata": {},
     "output_type": "execute_result"
    }
   ],
   "source": [
    "df1 = sheet1[\"A1\"].expand().options(pd.DataFrame, index=True).value\n",
    "df1"
   ]
  },
  {
   "cell_type": "code",
   "execution_count": 6,
   "metadata": {},
   "outputs": [
    {
     "data": {
      "text/plain": [
       "DatetimeIndex(['2014-12-31', '2015-01-31', '2015-02-28', '2015-03-31',\n",
       "               '2015-04-30', '2015-05-31', '2015-06-30', '2015-07-31',\n",
       "               '2015-08-31', '2015-09-30',\n",
       "               ...\n",
       "               '2024-02-29', '2024-03-31', '2024-04-30', '2024-05-31',\n",
       "               '2024-06-30', '2024-07-31', '2024-08-31', '2024-09-30',\n",
       "               '2024-10-31', '2024-11-29'],\n",
       "              dtype='datetime64[ns]', name='日期', length=120, freq=None)"
      ]
     },
     "execution_count": 6,
     "metadata": {},
     "output_type": "execute_result"
    }
   ],
   "source": [
    "df1.index"
   ]
  },
  {
   "cell_type": "code",
   "execution_count": 7,
   "metadata": {},
   "outputs": [
    {
     "data": {
      "text/plain": [
       "Index(['收盘价'], dtype='object')"
      ]
     },
     "execution_count": 7,
     "metadata": {},
     "output_type": "execute_result"
    }
   ],
   "source": [
    "df1.columns"
   ]
  },
  {
   "cell_type": "code",
   "execution_count": 8,
   "metadata": {},
   "outputs": [
    {
     "data": {
      "text/plain": [
       "收盘价    float64\n",
       "dtype: object"
      ]
     },
     "execution_count": 8,
     "metadata": {},
     "output_type": "execute_result"
    }
   ],
   "source": [
    "df1.dtypes"
   ]
  },
  {
   "cell_type": "code",
   "execution_count": 9,
   "metadata": {},
   "outputs": [
    {
     "name": "stdout",
     "output_type": "stream",
     "text": [
      "[42004 42035 42063 42094 42124 42155 42185 42216 42247 42277 42308 42338\n",
      " 42369 42400 42429 42460 42490 42521 42551 42582 42613 42643 42674 42704\n",
      " 42735 42766 42794 42825 42855 42886 42916 42947 42978 43008 43039 43069\n",
      " 43100 43131 43159 43190 43220 43251 43281 43312 43343 43373 43404 43434\n",
      " 43465 43496 43524 43555 43585 43616 43646 43677 43708 43738 43769 43799\n",
      " 43830 43861 43890 43921 43951 43982 44012 44043 44074 44104 44135 44165\n",
      " 44196 44227 44255 44286 44316 44347 44377 44408 44439 44469 44500 44530\n",
      " 44561 44592 44620 44651 44681 44712 44742 44773 44804 44834 44865 44895\n",
      " 44926 44957 44985 45016 45046 45077 45107 45138 45169 45199 45230 45260\n",
      " 45291 45322 45351 45382 45412 45443 45473 45504 45535 45565 45596 45625]\n"
     ]
    }
   ],
   "source": [
    "from pywander.math.excel import to_excel_int_time_v\n",
    "\n",
    "print(to_excel_int_time_v(df1.index.to_pydatetime()))"
   ]
  },
  {
   "cell_type": "code",
   "execution_count": 10,
   "metadata": {},
   "outputs": [
    {
     "data": {
      "text/html": [
       "<div>\n",
       "<style scoped>\n",
       "    .dataframe tbody tr th:only-of-type {\n",
       "        vertical-align: middle;\n",
       "    }\n",
       "\n",
       "    .dataframe tbody tr th {\n",
       "        vertical-align: top;\n",
       "    }\n",
       "\n",
       "    .dataframe thead th {\n",
       "        text-align: right;\n",
       "    }\n",
       "</style>\n",
       "<table border=\"1\" class=\"dataframe\">\n",
       "  <thead>\n",
       "    <tr style=\"text-align: right;\">\n",
       "      <th></th>\n",
       "      <th>收盘价</th>\n",
       "      <th>int_time</th>\n",
       "    </tr>\n",
       "    <tr>\n",
       "      <th>日期</th>\n",
       "      <th></th>\n",
       "      <th></th>\n",
       "    </tr>\n",
       "  </thead>\n",
       "  <tbody>\n",
       "    <tr>\n",
       "      <th>2014-12-31</th>\n",
       "      <td>1183.0</td>\n",
       "      <td>42004</td>\n",
       "    </tr>\n",
       "    <tr>\n",
       "      <th>2015-01-31</th>\n",
       "      <td>1282.0</td>\n",
       "      <td>42035</td>\n",
       "    </tr>\n",
       "    <tr>\n",
       "      <th>2015-02-28</th>\n",
       "      <td>1212.0</td>\n",
       "      <td>42063</td>\n",
       "    </tr>\n",
       "    <tr>\n",
       "      <th>2015-03-31</th>\n",
       "      <td>1183.0</td>\n",
       "      <td>42094</td>\n",
       "    </tr>\n",
       "    <tr>\n",
       "      <th>2015-04-30</th>\n",
       "      <td>1183.0</td>\n",
       "      <td>42124</td>\n",
       "    </tr>\n",
       "    <tr>\n",
       "      <th>...</th>\n",
       "      <td>...</td>\n",
       "      <td>...</td>\n",
       "    </tr>\n",
       "    <tr>\n",
       "      <th>2024-07-31</th>\n",
       "      <td>2445.0</td>\n",
       "      <td>45504</td>\n",
       "    </tr>\n",
       "    <tr>\n",
       "      <th>2024-08-31</th>\n",
       "      <td>2503.0</td>\n",
       "      <td>45535</td>\n",
       "    </tr>\n",
       "    <tr>\n",
       "      <th>2024-09-30</th>\n",
       "      <td>2635.0</td>\n",
       "      <td>45565</td>\n",
       "    </tr>\n",
       "    <tr>\n",
       "      <th>2024-10-31</th>\n",
       "      <td>2746.0</td>\n",
       "      <td>45596</td>\n",
       "    </tr>\n",
       "    <tr>\n",
       "      <th>2024-11-29</th>\n",
       "      <td>2657.0</td>\n",
       "      <td>45625</td>\n",
       "    </tr>\n",
       "  </tbody>\n",
       "</table>\n",
       "<p>120 rows × 2 columns</p>\n",
       "</div>"
      ],
      "text/plain": [
       "               收盘价  int_time\n",
       "日期                          \n",
       "2014-12-31  1183.0     42004\n",
       "2015-01-31  1282.0     42035\n",
       "2015-02-28  1212.0     42063\n",
       "2015-03-31  1183.0     42094\n",
       "2015-04-30  1183.0     42124\n",
       "...            ...       ...\n",
       "2024-07-31  2445.0     45504\n",
       "2024-08-31  2503.0     45535\n",
       "2024-09-30  2635.0     45565\n",
       "2024-10-31  2746.0     45596\n",
       "2024-11-29  2657.0     45625\n",
       "\n",
       "[120 rows x 2 columns]"
      ]
     },
     "execution_count": 10,
     "metadata": {},
     "output_type": "execute_result"
    }
   ],
   "source": [
    "\n",
    "df1['int_time'] = to_excel_int_time_v(df1.index.to_pydatetime())\n",
    "df1"
   ]
  },
  {
   "cell_type": "code",
   "execution_count": 11,
   "metadata": {},
   "outputs": [
    {
     "data": {
      "text/plain": [
       "array([1183., 1282., 1212., 1183., 1183., 1189., 1172., 1095., 1134.,\n",
       "       1114., 1142., 1064., 1060., 1117., 1237., 1232., 1293., 1214.,\n",
       "       1321., 1350., 1308., 1315., 1277., 1172., 1151., 1210., 1248.,\n",
       "       1248., 1267., 1268., 1241., 1269., 1321., 1279., 1271., 1274.,\n",
       "       1302., 1344., 1317., 1324., 1315., 1297., 1252., 1223., 1201.,\n",
       "       1191., 1214., 1221., 1282., 1320., 1312., 1291., 1283., 1305.,\n",
       "       1409., 1413., 1519., 1472., 1513., 1464., 1517., 1586., 1584.,\n",
       "       1571., 1680., 1726., 1784., 1974., 1969., 1885., 1878., 1777.,\n",
       "       1896., 1846., 1733., 1707., 1768., 1906., 1769., 1813., 1813.,\n",
       "       1756., 1782., 1773., 1828., 1796., 1907., 1937., 1896., 1837.,\n",
       "       1806., 1765., 1710., 1659., 1633., 1768., 1824., 1927., 1827.,\n",
       "       1967., 1989., 1962., 1919., 1964., 1939., 1848., 1982., 2035.,\n",
       "       2062., 2037., 2043., 2232., 2291., 2327., 2326., 2445., 2503.,\n",
       "       2635., 2746., 2657.])"
      ]
     },
     "execution_count": 11,
     "metadata": {},
     "output_type": "execute_result"
    }
   ],
   "source": [
    "df1['收盘价'].to_numpy()"
   ]
  },
  {
   "cell_type": "code",
   "execution_count": 12,
   "metadata": {},
   "outputs": [
    {
     "data": {
      "text/plain": [
       "array([42004, 42035, 42063, 42094, 42124, 42155, 42185, 42216, 42247,\n",
       "       42277, 42308, 42338, 42369, 42400, 42429, 42460, 42490, 42521,\n",
       "       42551, 42582, 42613, 42643, 42674, 42704, 42735, 42766, 42794,\n",
       "       42825, 42855, 42886, 42916, 42947, 42978, 43008, 43039, 43069,\n",
       "       43100, 43131, 43159, 43190, 43220, 43251, 43281, 43312, 43343,\n",
       "       43373, 43404, 43434, 43465, 43496, 43524, 43555, 43585, 43616,\n",
       "       43646, 43677, 43708, 43738, 43769, 43799, 43830, 43861, 43890,\n",
       "       43921, 43951, 43982, 44012, 44043, 44074, 44104, 44135, 44165,\n",
       "       44196, 44227, 44255, 44286, 44316, 44347, 44377, 44408, 44439,\n",
       "       44469, 44500, 44530, 44561, 44592, 44620, 44651, 44681, 44712,\n",
       "       44742, 44773, 44804, 44834, 44865, 44895, 44926, 44957, 44985,\n",
       "       45016, 45046, 45077, 45107, 45138, 45169, 45199, 45230, 45260,\n",
       "       45291, 45322, 45351, 45382, 45412, 45443, 45473, 45504, 45535,\n",
       "       45565, 45596, 45625])"
      ]
     },
     "execution_count": 12,
     "metadata": {},
     "output_type": "execute_result"
    }
   ],
   "source": [
    "df1['int_time'].to_numpy()"
   ]
  },
  {
   "cell_type": "markdown",
   "metadata": {},
   "source": [
    "## 趋势线模拟为什么选择指数函数\n",
    "认为其有一个内在的增加动力，随着时间有着一定的增长率，那么趋势线模拟可以选用指数函数。\n",
    "\n"
   ]
  },
  {
   "cell_type": "markdown",
   "metadata": {},
   "source": [
    "![img](趋势线指数规律.png)"
   ]
  },
  {
   "cell_type": "code",
   "execution_count": 13,
   "metadata": {},
   "outputs": [
    {
     "name": "stdout",
     "output_type": "stream",
     "text": [
      "[0.10547053 2.19008245]\n",
      "[[ 0.00136977 -0.00293131]\n",
      " [-0.00293131  0.00627617]]\n"
     ]
    },
    {
     "data": {
      "text/plain": [
       "0.8703062505418483"
      ]
     },
     "execution_count": 13,
     "metadata": {},
     "output_type": "execute_result"
    },
    {
     "data": {
      "image/png": "[encoded data removed]",
      "text/plain": [
       "<Figure size 640x480 with 1 Axes>"
      ]
     },
     "metadata": {},
     "output_type": "display_data"
    }
   ],
   "source": [
    "xdata = df1['int_time'].to_numpy()\n",
    "ydata = df1['收盘价'].to_numpy()\n",
    "xdata = xdata.astype(np.float64)\n",
    "\n",
    "def func(x, a, b):\n",
    "    # 因为np.exp接受过大的数会造成数值溢出 \n",
    "    # 必须先改造输入xdata 让其变得小一些\n",
    "    return a * np.exp(b * (x * 0.0001))\n",
    "\n",
    "fitting_opts = {\n",
    "    #'maxfev': 10,  # 设置最大迭代次数\n",
    "    #'method': 'lm'\n",
    "}\n",
    "\n",
    "popt, pcov = curve_fit(func, xdata, ydata , **fitting_opts)\n",
    "print(popt)\n",
    "print(pcov)\n",
    "\n",
    "# 实际曲线\n",
    "plt.plot(xdata, ydata, 'b-', label='data')\n",
    "\n",
    "# 预测曲线\n",
    "predict_ydata = func(xdata, *popt)\n",
    "plt.plot(xdata, predict_ydata, 'r-')\n",
    "\n",
    "r2_score(ydata, predict_ydata)"
   ]
  },
  {
   "cell_type": "code",
   "execution_count": 14,
   "metadata": {},
   "outputs": [],
   "source": [
    "book.names['Var_1'].delete()\n",
    "book.names['Var_2'].delete()"
   ]
  },
  {
   "cell_type": "code",
   "execution_count": 15,
   "metadata": {},
   "outputs": [
    {
     "name": "stdout",
     "output_type": "stream",
     "text": [
      "[<Name 'Var_1': =0.105470528368999>, <Name 'Var_2': =2.1900824468783>]\n"
     ]
    }
   ],
   "source": [
    "book.names.add(\"Var_1\", popt[0])\n",
    "book.names.add(\"Var_2\", popt[1])\n",
    "print(book.names)"
   ]
  },
  {
   "cell_type": "code",
   "execution_count": 16,
   "metadata": {},
   "outputs": [],
   "source": [
    "book.save()\n",
    "#app = book.app\n",
    "#%app.quit()"
   ]
  }
 ],
 "metadata": {
  "kernelspec": {
   "display_name": ".venv",
   "language": "python",
   "name": "python3"
  },
  "language_info": {
   "codemirror_mode": {
    "name": "ipython",
    "version": 3
   },
   "file_extension": ".py",
   "mimetype": "text/x-python",
   "name": "python",
   "nbconvert_exporter": "python",
   "pygments_lexer": "ipython3",
   "version": "3.12.0"
  }
 },
 "nbformat": 4,
 "nbformat_minor": 4
}
