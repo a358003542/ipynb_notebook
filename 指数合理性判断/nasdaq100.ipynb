{
 "cells": [
  {
   "cell_type": "code",
   "execution_count": 1,
   "metadata": {},
   "outputs": [],
   "source": [
    "import xlwings as xw\n",
    "import pandas as pd\n",
    "import numpy as np\n",
    "import matplotlib.pyplot as plt\n",
    "\n",
    "from datetime import datetime\n",
    "from scipy.optimize import curve_fit\n",
    "from sklearn.metrics import r2_score\n"
   ]
  },
  {
   "cell_type": "code",
   "execution_count": 2,
   "metadata": {},
   "outputs": [
    {
     "data": {
      "text/plain": [
       "'nasdaq100.xlsx'"
      ]
     },
     "execution_count": 2,
     "metadata": {},
     "output_type": "execute_result"
    }
   ],
   "source": [
    "book = xw.Book(\"nasdaq100.xlsx\")\n",
    "book.name"
   ]
  },
  {
   "cell_type": "code",
   "execution_count": 3,
   "metadata": {},
   "outputs": [
    {
     "data": {
      "text/plain": [
       "Sheets([<Sheet [nasdaq100.xlsx]预测值分析>, <Sheet [nasdaq100.xlsx]指数合理性判断>])"
      ]
     },
     "execution_count": 3,
     "metadata": {},
     "output_type": "execute_result"
    }
   ],
   "source": [
    "book.sheets"
   ]
  },
  {
   "cell_type": "code",
   "execution_count": 4,
   "metadata": {},
   "outputs": [],
   "source": [
    "sheet1 = book.sheets['预测值分析']\n",
    "sheet2 = book.sheets['指数合理性判断']"
   ]
  },
  {
   "cell_type": "code",
   "execution_count": 5,
   "metadata": {},
   "outputs": [
    {
     "data": {
      "application/vnd.microsoft.datawrangler.viewer.v0+json": {
       "columns": [
        {
         "name": "日期",
         "rawType": "datetime64[ns]",
         "type": "datetime"
        },
        {
         "name": "收盘价",
         "rawType": "float64",
         "type": "float"
        }
       ],
       "ref": "9b1773af-2956-4ebb-a11d-e9ae79d8da96",
       "rows": [
        [
         "2015-05-31 00:00:00",
         "4508.0"
        ],
        [
         "2015-06-30 00:00:00",
         "4396.0"
        ],
        [
         "2015-07-31 00:00:00",
         "4588.0"
        ],
        [
         "2015-08-31 00:00:00",
         "4274.0"
        ],
        [
         "2015-09-30 00:00:00",
         "4181.0"
        ],
        [
         "2015-10-31 00:00:00",
         "4648.0"
        ],
        [
         "2015-11-30 00:00:00",
         "4664.0"
        ],
        [
         "2015-12-31 00:00:00",
         "4593.0"
        ],
        [
         "2016-01-31 00:00:00",
         "4279.0"
        ],
        [
         "2016-02-29 00:00:00",
         "4201.0"
        ],
        [
         "2016-03-31 00:00:00",
         "4483.0"
        ],
        [
         "2016-04-30 00:00:00",
         "4341.0"
        ],
        [
         "2016-05-31 00:00:00",
         "4523.0"
        ],
        [
         "2016-06-30 00:00:00",
         "4417.0"
        ],
        [
         "2016-07-31 00:00:00",
         "4730.0"
        ],
        [
         "2016-08-31 00:00:00",
         "4771.0"
        ],
        [
         "2016-09-30 00:00:00",
         "4875.0"
        ],
        [
         "2016-10-31 00:00:00",
         "4801.0"
        ],
        [
         "2016-11-30 00:00:00",
         "4810.0"
        ],
        [
         "2016-12-31 00:00:00",
         "4863.0"
        ],
        [
         "2017-01-31 00:00:00",
         "5116.0"
        ],
        [
         "2017-02-28 00:00:00",
         "5330.0"
        ],
        [
         "2017-03-31 00:00:00",
         "5436.0"
        ],
        [
         "2017-04-30 00:00:00",
         "5583.0"
        ],
        [
         "2017-05-31 00:00:00",
         "5788.0"
        ],
        [
         "2017-06-30 00:00:00",
         "5646.0"
        ],
        [
         "2017-07-31 00:00:00",
         "5880.0"
        ],
        [
         "2017-08-31 00:00:00",
         "5988.0"
        ],
        [
         "2017-09-30 00:00:00",
         "5979.0"
        ],
        [
         "2017-10-31 00:00:00",
         "6248.0"
        ],
        [
         "2017-11-30 00:00:00",
         "6365.0"
        ],
        [
         "2017-12-31 00:00:00",
         "6396.0"
        ],
        [
         "2018-01-31 00:00:00",
         "6950.0"
        ],
        [
         "2018-02-28 00:00:00",
         "6854.0"
        ],
        [
         "2018-03-31 00:00:00",
         "6581.0"
        ],
        [
         "2018-04-30 00:00:00",
         "6605.0"
        ],
        [
         "2018-05-31 00:00:00",
         "6967.0"
        ],
        [
         "2018-06-30 00:00:00",
         "7040.0"
        ],
        [
         "2018-07-31 00:00:00",
         "7232.0"
        ],
        [
         "2018-08-31 00:00:00",
         "7654.0"
        ],
        [
         "2018-09-30 00:00:00",
         "7627.0"
        ],
        [
         "2018-10-31 00:00:00",
         "6967.0"
        ],
        [
         "2018-11-30 00:00:00",
         "6949.0"
        ],
        [
         "2018-12-31 00:00:00",
         "6330.0"
        ],
        [
         "2019-01-31 00:00:00",
         "6906.0"
        ],
        [
         "2019-02-28 00:00:00",
         "7097.0"
        ],
        [
         "2019-03-31 00:00:00",
         "7378.0"
        ],
        [
         "2019-04-30 00:00:00",
         "7781.0"
        ],
        [
         "2019-05-31 00:00:00",
         "7128.0"
        ],
        [
         "2019-06-30 00:00:00",
         "7671.0"
        ]
       ],
       "shape": {
        "columns": 1,
        "rows": 120
       }
      },
      "text/html": [
       "<div>\n",
       "<style scoped>\n",
       "    .dataframe tbody tr th:only-of-type {\n",
       "        vertical-align: middle;\n",
       "    }\n",
       "\n",
       "    .dataframe tbody tr th {\n",
       "        vertical-align: top;\n",
       "    }\n",
       "\n",
       "    .dataframe thead th {\n",
       "        text-align: right;\n",
       "    }\n",
       "</style>\n",
       "<table border=\"1\" class=\"dataframe\">\n",
       "  <thead>\n",
       "    <tr style=\"text-align: right;\">\n",
       "      <th></th>\n",
       "      <th>收盘价</th>\n",
       "    </tr>\n",
       "    <tr>\n",
       "      <th>日期</th>\n",
       "      <th></th>\n",
       "    </tr>\n",
       "  </thead>\n",
       "  <tbody>\n",
       "    <tr>\n",
       "      <th>2015-05-31</th>\n",
       "      <td>4508.0</td>\n",
       "    </tr>\n",
       "    <tr>\n",
       "      <th>2015-06-30</th>\n",
       "      <td>4396.0</td>\n",
       "    </tr>\n",
       "    <tr>\n",
       "      <th>2015-07-31</th>\n",
       "      <td>4588.0</td>\n",
       "    </tr>\n",
       "    <tr>\n",
       "      <th>2015-08-31</th>\n",
       "      <td>4274.0</td>\n",
       "    </tr>\n",
       "    <tr>\n",
       "      <th>2015-09-30</th>\n",
       "      <td>4181.0</td>\n",
       "    </tr>\n",
       "    <tr>\n",
       "      <th>...</th>\n",
       "      <td>...</td>\n",
       "    </tr>\n",
       "    <tr>\n",
       "      <th>2024-12-31</th>\n",
       "      <td>21012.0</td>\n",
       "    </tr>\n",
       "    <tr>\n",
       "      <th>2025-01-31</th>\n",
       "      <td>21478.0</td>\n",
       "    </tr>\n",
       "    <tr>\n",
       "      <th>2025-02-28</th>\n",
       "      <td>20884.0</td>\n",
       "    </tr>\n",
       "    <tr>\n",
       "      <th>2025-03-31</th>\n",
       "      <td>19279.0</td>\n",
       "    </tr>\n",
       "    <tr>\n",
       "      <th>2025-04-30</th>\n",
       "      <td>19571.0</td>\n",
       "    </tr>\n",
       "  </tbody>\n",
       "</table>\n",
       "<p>120 rows × 1 columns</p>\n",
       "</div>"
      ],
      "text/plain": [
       "                收盘价\n",
       "日期                 \n",
       "2015-05-31   4508.0\n",
       "2015-06-30   4396.0\n",
       "2015-07-31   4588.0\n",
       "2015-08-31   4274.0\n",
       "2015-09-30   4181.0\n",
       "...             ...\n",
       "2024-12-31  21012.0\n",
       "2025-01-31  21478.0\n",
       "2025-02-28  20884.0\n",
       "2025-03-31  19279.0\n",
       "2025-04-30  19571.0\n",
       "\n",
       "[120 rows x 1 columns]"
      ]
     },
     "execution_count": 5,
     "metadata": {},
     "output_type": "execute_result"
    }
   ],
   "source": [
    "df1 = sheet1[\"A1\"].expand().options(pd.DataFrame, index=True).value\n",
    "df1"
   ]
  },
  {
   "cell_type": "code",
   "execution_count": 6,
   "metadata": {},
   "outputs": [
    {
     "data": {
      "text/plain": [
       "DatetimeIndex(['2015-05-31', '2015-06-30', '2015-07-31', '2015-08-31',\n",
       "               '2015-09-30', '2015-10-31', '2015-11-30', '2015-12-31',\n",
       "               '2016-01-31', '2016-02-29',\n",
       "               ...\n",
       "               '2024-07-31', '2024-08-31', '2024-09-30', '2024-10-31',\n",
       "               '2024-11-29', '2024-12-31', '2025-01-31', '2025-02-28',\n",
       "               '2025-03-31', '2025-04-30'],\n",
       "              dtype='datetime64[ns]', name='日期', length=120, freq=None)"
      ]
     },
     "execution_count": 6,
     "metadata": {},
     "output_type": "execute_result"
    }
   ],
   "source": [
    "df1.index"
   ]
  },
  {
   "cell_type": "code",
   "execution_count": 7,
   "metadata": {},
   "outputs": [
    {
     "data": {
      "text/plain": [
       "Index(['收盘价'], dtype='object')"
      ]
     },
     "execution_count": 7,
     "metadata": {},
     "output_type": "execute_result"
    }
   ],
   "source": [
    "df1.columns"
   ]
  },
  {
   "cell_type": "code",
   "execution_count": 8,
   "metadata": {},
   "outputs": [
    {
     "data": {
      "application/vnd.microsoft.datawrangler.viewer.v0+json": {
       "columns": [
        {
         "name": "index",
         "rawType": "object",
         "type": "string"
        },
        {
         "name": "0",
         "rawType": "object",
         "type": "unknown"
        }
       ],
       "ref": "3ab5e7ed-588d-4620-b776-f8f76112485f",
       "rows": [
        [
         "收盘价",
         "float64"
        ]
       ],
       "shape": {
        "columns": 1,
        "rows": 1
       }
      },
      "text/plain": [
       "收盘价    float64\n",
       "dtype: object"
      ]
     },
     "execution_count": 8,
     "metadata": {},
     "output_type": "execute_result"
    }
   ],
   "source": [
    "df1.dtypes"
   ]
  },
  {
   "cell_type": "code",
   "execution_count": 9,
   "metadata": {},
   "outputs": [
    {
     "name": "stdout",
     "output_type": "stream",
     "text": [
      "[42155 42185 42216 42247 42277 42308 42338 42369 42400 42429 42460 42490\n",
      " 42521 42551 42582 42613 42643 42674 42704 42735 42766 42794 42825 42855\n",
      " 42886 42916 42947 42978 43008 43039 43069 43100 43131 43159 43190 43220\n",
      " 43251 43281 43312 43343 43373 43404 43434 43465 43496 43524 43555 43585\n",
      " 43616 43646 43677 43708 43738 43769 43799 43830 43861 43890 43921 43951\n",
      " 43982 44012 44043 44074 44104 44135 44165 44196 44227 44255 44286 44316\n",
      " 44347 44377 44408 44439 44469 44500 44530 44561 44592 44620 44651 44681\n",
      " 44712 44742 44773 44804 44834 44865 44895 44926 44957 44985 45016 45046\n",
      " 45077 45107 45138 45169 45199 45230 45260 45291 45322 45351 45382 45412\n",
      " 45443 45473 45504 45535 45565 45596 45625 45657 45688 45716 45747 45777]\n"
     ]
    }
   ],
   "source": [
    "from pywander.math.excel import to_excel_int_time_v\n",
    "\n",
    "print(to_excel_int_time_v(df1.index.to_pydatetime()))"
   ]
  },
  {
   "cell_type": "code",
   "execution_count": 10,
   "metadata": {},
   "outputs": [
    {
     "data": {
      "application/vnd.microsoft.datawrangler.viewer.v0+json": {
       "columns": [
        {
         "name": "日期",
         "rawType": "datetime64[ns]",
         "type": "datetime"
        },
        {
         "name": "收盘价",
         "rawType": "float64",
         "type": "float"
        },
        {
         "name": "int_time",
         "rawType": "int64",
         "type": "integer"
        }
       ],
       "ref": "12be6ed6-a9eb-4cef-bde7-67f4c7e97862",
       "rows": [
        [
         "2015-05-31 00:00:00",
         "4508.0",
         "42155"
        ],
        [
         "2015-06-30 00:00:00",
         "4396.0",
         "42185"
        ],
        [
         "2015-07-31 00:00:00",
         "4588.0",
         "42216"
        ],
        [
         "2015-08-31 00:00:00",
         "4274.0",
         "42247"
        ],
        [
         "2015-09-30 00:00:00",
         "4181.0",
         "42277"
        ],
        [
         "2015-10-31 00:00:00",
         "4648.0",
         "42308"
        ],
        [
         "2015-11-30 00:00:00",
         "4664.0",
         "42338"
        ],
        [
         "2015-12-31 00:00:00",
         "4593.0",
         "42369"
        ],
        [
         "2016-01-31 00:00:00",
         "4279.0",
         "42400"
        ],
        [
         "2016-02-29 00:00:00",
         "4201.0",
         "42429"
        ],
        [
         "2016-03-31 00:00:00",
         "4483.0",
         "42460"
        ],
        [
         "2016-04-30 00:00:00",
         "4341.0",
         "42490"
        ],
        [
         "2016-05-31 00:00:00",
         "4523.0",
         "42521"
        ],
        [
         "2016-06-30 00:00:00",
         "4417.0",
         "42551"
        ],
        [
         "2016-07-31 00:00:00",
         "4730.0",
         "42582"
        ],
        [
         "2016-08-31 00:00:00",
         "4771.0",
         "42613"
        ],
        [
         "2016-09-30 00:00:00",
         "4875.0",
         "42643"
        ],
        [
         "2016-10-31 00:00:00",
         "4801.0",
         "42674"
        ],
        [
         "2016-11-30 00:00:00",
         "4810.0",
         "42704"
        ],
        [
         "2016-12-31 00:00:00",
         "4863.0",
         "42735"
        ],
        [
         "2017-01-31 00:00:00",
         "5116.0",
         "42766"
        ],
        [
         "2017-02-28 00:00:00",
         "5330.0",
         "42794"
        ],
        [
         "2017-03-31 00:00:00",
         "5436.0",
         "42825"
        ],
        [
         "2017-04-30 00:00:00",
         "5583.0",
         "42855"
        ],
        [
         "2017-05-31 00:00:00",
         "5788.0",
         "42886"
        ],
        [
         "2017-06-30 00:00:00",
         "5646.0",
         "42916"
        ],
        [
         "2017-07-31 00:00:00",
         "5880.0",
         "42947"
        ],
        [
         "2017-08-31 00:00:00",
         "5988.0",
         "42978"
        ],
        [
         "2017-09-30 00:00:00",
         "5979.0",
         "43008"
        ],
        [
         "2017-10-31 00:00:00",
         "6248.0",
         "43039"
        ],
        [
         "2017-11-30 00:00:00",
         "6365.0",
         "43069"
        ],
        [
         "2017-12-31 00:00:00",
         "6396.0",
         "43100"
        ],
        [
         "2018-01-31 00:00:00",
         "6950.0",
         "43131"
        ],
        [
         "2018-02-28 00:00:00",
         "6854.0",
         "43159"
        ],
        [
         "2018-03-31 00:00:00",
         "6581.0",
         "43190"
        ],
        [
         "2018-04-30 00:00:00",
         "6605.0",
         "43220"
        ],
        [
         "2018-05-31 00:00:00",
         "6967.0",
         "43251"
        ],
        [
         "2018-06-30 00:00:00",
         "7040.0",
         "43281"
        ],
        [
         "2018-07-31 00:00:00",
         "7232.0",
         "43312"
        ],
        [
         "2018-08-31 00:00:00",
         "7654.0",
         "43343"
        ],
        [
         "2018-09-30 00:00:00",
         "7627.0",
         "43373"
        ],
        [
         "2018-10-31 00:00:00",
         "6967.0",
         "43404"
        ],
        [
         "2018-11-30 00:00:00",
         "6949.0",
         "43434"
        ],
        [
         "2018-12-31 00:00:00",
         "6330.0",
         "43465"
        ],
        [
         "2019-01-31 00:00:00",
         "6906.0",
         "43496"
        ],
        [
         "2019-02-28 00:00:00",
         "7097.0",
         "43524"
        ],
        [
         "2019-03-31 00:00:00",
         "7378.0",
         "43555"
        ],
        [
         "2019-04-30 00:00:00",
         "7781.0",
         "43585"
        ],
        [
         "2019-05-31 00:00:00",
         "7128.0",
         "43616"
        ],
        [
         "2019-06-30 00:00:00",
         "7671.0",
         "43646"
        ]
       ],
       "shape": {
        "columns": 2,
        "rows": 120
       }
      },
      "text/html": [
       "<div>\n",
       "<style scoped>\n",
       "    .dataframe tbody tr th:only-of-type {\n",
       "        vertical-align: middle;\n",
       "    }\n",
       "\n",
       "    .dataframe tbody tr th {\n",
       "        vertical-align: top;\n",
       "    }\n",
       "\n",
       "    .dataframe thead th {\n",
       "        text-align: right;\n",
       "    }\n",
       "</style>\n",
       "<table border=\"1\" class=\"dataframe\">\n",
       "  <thead>\n",
       "    <tr style=\"text-align: right;\">\n",
       "      <th></th>\n",
       "      <th>收盘价</th>\n",
       "      <th>int_time</th>\n",
       "    </tr>\n",
       "    <tr>\n",
       "      <th>日期</th>\n",
       "      <th></th>\n",
       "      <th></th>\n",
       "    </tr>\n",
       "  </thead>\n",
       "  <tbody>\n",
       "    <tr>\n",
       "      <th>2015-05-31</th>\n",
       "      <td>4508.0</td>\n",
       "      <td>42155</td>\n",
       "    </tr>\n",
       "    <tr>\n",
       "      <th>2015-06-30</th>\n",
       "      <td>4396.0</td>\n",
       "      <td>42185</td>\n",
       "    </tr>\n",
       "    <tr>\n",
       "      <th>2015-07-31</th>\n",
       "      <td>4588.0</td>\n",
       "      <td>42216</td>\n",
       "    </tr>\n",
       "    <tr>\n",
       "      <th>2015-08-31</th>\n",
       "      <td>4274.0</td>\n",
       "      <td>42247</td>\n",
       "    </tr>\n",
       "    <tr>\n",
       "      <th>2015-09-30</th>\n",
       "      <td>4181.0</td>\n",
       "      <td>42277</td>\n",
       "    </tr>\n",
       "    <tr>\n",
       "      <th>...</th>\n",
       "      <td>...</td>\n",
       "      <td>...</td>\n",
       "    </tr>\n",
       "    <tr>\n",
       "      <th>2024-12-31</th>\n",
       "      <td>21012.0</td>\n",
       "      <td>45657</td>\n",
       "    </tr>\n",
       "    <tr>\n",
       "      <th>2025-01-31</th>\n",
       "      <td>21478.0</td>\n",
       "      <td>45688</td>\n",
       "    </tr>\n",
       "    <tr>\n",
       "      <th>2025-02-28</th>\n",
       "      <td>20884.0</td>\n",
       "      <td>45716</td>\n",
       "    </tr>\n",
       "    <tr>\n",
       "      <th>2025-03-31</th>\n",
       "      <td>19279.0</td>\n",
       "      <td>45747</td>\n",
       "    </tr>\n",
       "    <tr>\n",
       "      <th>2025-04-30</th>\n",
       "      <td>19571.0</td>\n",
       "      <td>45777</td>\n",
       "    </tr>\n",
       "  </tbody>\n",
       "</table>\n",
       "<p>120 rows × 2 columns</p>\n",
       "</div>"
      ],
      "text/plain": [
       "                收盘价  int_time\n",
       "日期                           \n",
       "2015-05-31   4508.0     42155\n",
       "2015-06-30   4396.0     42185\n",
       "2015-07-31   4588.0     42216\n",
       "2015-08-31   4274.0     42247\n",
       "2015-09-30   4181.0     42277\n",
       "...             ...       ...\n",
       "2024-12-31  21012.0     45657\n",
       "2025-01-31  21478.0     45688\n",
       "2025-02-28  20884.0     45716\n",
       "2025-03-31  19279.0     45747\n",
       "2025-04-30  19571.0     45777\n",
       "\n",
       "[120 rows x 2 columns]"
      ]
     },
     "execution_count": 10,
     "metadata": {},
     "output_type": "execute_result"
    }
   ],
   "source": [
    "\n",
    "df1['int_time'] = to_excel_int_time_v(df1.index.to_pydatetime())\n",
    "df1"
   ]
  },
  {
   "cell_type": "code",
   "execution_count": 11,
   "metadata": {},
   "outputs": [
    {
     "data": {
      "text/plain": [
       "array([ 4508.,  4396.,  4588.,  4274.,  4181.,  4648.,  4664.,  4593.,\n",
       "        4279.,  4201.,  4483.,  4341.,  4523.,  4417.,  4730.,  4771.,\n",
       "        4875.,  4801.,  4810.,  4863.,  5116.,  5330.,  5436.,  5583.,\n",
       "        5788.,  5646.,  5880.,  5988.,  5979.,  6248.,  6365.,  6396.,\n",
       "        6950.,  6854.,  6581.,  6605.,  6967.,  7040.,  7232.,  7654.,\n",
       "        7627.,  6967.,  6949.,  6330.,  6906.,  7097.,  7378.,  7781.,\n",
       "        7128.,  7671.,  7848.,  7691.,  7749.,  8083.,  8418.,  8727.,\n",
       "        8991.,  8461.,  7813.,  9000.,  9555., 10157., 10906., 12111.,\n",
       "       11418., 11053., 12268., 12888., 12925., 12909., 13091., 13861.,\n",
       "       13687., 14555., 14960., 15583., 14690., 15851., 16136., 16320.,\n",
       "       14930., 14238., 14839., 12855., 12642., 11504., 12948., 12272.,\n",
       "       10971., 11406., 12030., 10940., 12102., 12042., 13181., 13246.,\n",
       "       14254., 15179., 15757., 15501., 14715., 14410., 15948., 16826.,\n",
       "       17137., 18044., 18246., 17441., 18537., 19683., 19362., 19575.,\n",
       "       20061., 19890., 20930., 21012., 21478., 20884., 19279., 19571.])"
      ]
     },
     "execution_count": 11,
     "metadata": {},
     "output_type": "execute_result"
    }
   ],
   "source": [
    "df1['收盘价'].to_numpy()"
   ]
  },
  {
   "cell_type": "code",
   "execution_count": 12,
   "metadata": {},
   "outputs": [
    {
     "data": {
      "text/plain": [
       "array([42155, 42185, 42216, 42247, 42277, 42308, 42338, 42369, 42400,\n",
       "       42429, 42460, 42490, 42521, 42551, 42582, 42613, 42643, 42674,\n",
       "       42704, 42735, 42766, 42794, 42825, 42855, 42886, 42916, 42947,\n",
       "       42978, 43008, 43039, 43069, 43100, 43131, 43159, 43190, 43220,\n",
       "       43251, 43281, 43312, 43343, 43373, 43404, 43434, 43465, 43496,\n",
       "       43524, 43555, 43585, 43616, 43646, 43677, 43708, 43738, 43769,\n",
       "       43799, 43830, 43861, 43890, 43921, 43951, 43982, 44012, 44043,\n",
       "       44074, 44104, 44135, 44165, 44196, 44227, 44255, 44286, 44316,\n",
       "       44347, 44377, 44408, 44439, 44469, 44500, 44530, 44561, 44592,\n",
       "       44620, 44651, 44681, 44712, 44742, 44773, 44804, 44834, 44865,\n",
       "       44895, 44926, 44957, 44985, 45016, 45046, 45077, 45107, 45138,\n",
       "       45169, 45199, 45230, 45260, 45291, 45322, 45351, 45382, 45412,\n",
       "       45443, 45473, 45504, 45535, 45565, 45596, 45625, 45657, 45688,\n",
       "       45716, 45747, 45777])"
      ]
     },
     "execution_count": 12,
     "metadata": {},
     "output_type": "execute_result"
    }
   ],
   "source": [
    "df1['int_time'].to_numpy()"
   ]
  },
  {
   "cell_type": "markdown",
   "metadata": {},
   "source": [
    "## 趋势线模拟为什么选择指数函数\n",
    "认为其有一个内在的增加动力，随着时间有着一定的增长率，那么趋势线模拟可以选用指数函数。\n",
    "\n"
   ]
  },
  {
   "cell_type": "markdown",
   "metadata": {},
   "source": [
    "![img](趋势线指数规律.png)"
   ]
  },
  {
   "cell_type": "code",
   "execution_count": 13,
   "metadata": {},
   "outputs": [
    {
     "name": "stdout",
     "output_type": "stream",
     "text": [
      "[4.66450118e-05 4.35347868e+00]\n",
      "[[ 7.94262694e-10 -3.79913164e-06]\n",
      " [-3.79913164e-06  1.81785499e-02]]\n"
     ]
    },
    {
     "data": {
      "text/plain": [
       "0.9182568447166816"
      ]
     },
     "execution_count": 13,
     "metadata": {},
     "output_type": "execute_result"
    },
    {
     "data": {
      "image/png": "[encoded data removed]",
      "text/plain": [
       "<Figure size 640x480 with 1 Axes>"
      ]
     },
     "metadata": {},
     "output_type": "display_data"
    }
   ],
   "source": [
    "xdata = df1['int_time'].to_numpy()\n",
    "ydata = df1['收盘价'].to_numpy()\n",
    "xdata = xdata.astype(np.float64)\n",
    "\n",
    "def func(x, a, b):\n",
    "    # 因为np.exp接受过大的数会造成数值溢出 \n",
    "    # 必须先改造输入xdata 让其变得小一些\n",
    "    return a * np.exp(b * (x * 0.0001))\n",
    "\n",
    "fitting_opts = {\n",
    "    #'maxfev': 10,  # 设置最大迭代次数\n",
    "    #'method': 'lm'\n",
    "}\n",
    "\n",
    "popt, pcov = curve_fit(func, xdata, ydata , **fitting_opts)\n",
    "print(popt)\n",
    "print(pcov)\n",
    "\n",
    "# 实际曲线\n",
    "plt.plot(xdata, ydata, 'b-', label='data')\n",
    "\n",
    "# 预测曲线\n",
    "predict_ydata = func(xdata, *popt)\n",
    "plt.plot(xdata, predict_ydata, 'r-')\n",
    "\n",
    "r2_score(ydata, predict_ydata)"
   ]
  },
  {
   "cell_type": "code",
   "execution_count": 14,
   "metadata": {},
   "outputs": [],
   "source": [
    "book.names['Var_1'].delete()\n",
    "book.names['Var_2'].delete()"
   ]
  },
  {
   "cell_type": "code",
   "execution_count": 15,
   "metadata": {},
   "outputs": [
    {
     "name": "stdout",
     "output_type": "stream",
     "text": [
      "[<Name 'Var_1': =0.0000466450118329541>, <Name 'Var_2': =4.35347867857269>]\n"
     ]
    }
   ],
   "source": [
    "book.names.add(\"Var_1\", popt[0])\n",
    "book.names.add(\"Var_2\", popt[1])\n",
    "print(book.names)"
   ]
  },
  {
   "cell_type": "code",
   "execution_count": 16,
   "metadata": {},
   "outputs": [],
   "source": [
    "book.save()\n",
    "#app = book.app\n",
    "#%app.quit()"
   ]
  }
 ],
 "metadata": {
  "kernelspec": {
   "display_name": "Python 3",
   "language": "python",
   "name": "python3"
  },
  "language_info": {
   "codemirror_mode": {
    "name": "ipython",
    "version": 3
   },
   "file_extension": ".py",
   "mimetype": "text/x-python",
   "name": "python",
   "nbconvert_exporter": "python",
   "pygments_lexer": "ipython3",
   "version": "3.12.10"
  }
 },
 "nbformat": 4,
 "nbformat_minor": 4
}
