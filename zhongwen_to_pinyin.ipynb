{
 "cells": [
  {
   "cell_type": "code",
   "execution_count": 5,
   "id": "8288bd74-6af2-4511-92e9-f0b809184846",
   "metadata": {},
   "outputs": [],
   "source": [
    "from pypinyin import lazy_pinyin"
   ]
  },
  {
   "cell_type": "code",
   "execution_count": 6,
   "id": "58aae3d6",
   "metadata": {},
   "outputs": [],
   "source": [
    "string = \"世界历史纲要\"\n",
    "hyphen = '-'"
   ]
  },
  {
   "cell_type": "code",
   "execution_count": 7,
   "id": "594a84c7-2ea1-4b70-a2c8-604e114e0a51",
   "metadata": {},
   "outputs": [],
   "source": [
    "s_pinyin_l = lazy_pinyin(string)"
   ]
  },
  {
   "cell_type": "code",
   "execution_count": 8,
   "id": "19fceb93-4b4a-4cbe-ae73-29b028495786",
   "metadata": {},
   "outputs": [],
   "source": [
    "s_pinyin = f'{hyphen}'.join(s_pinyin_l)"
   ]
  },
  {
   "cell_type": "code",
   "execution_count": 9,
   "id": "21ea135f-1205-40c0-b864-78ca0a249c70",
   "metadata": {},
   "outputs": [
    {
     "data": {
      "text/plain": [
       "'shi-jie-li-shi-gang-yao'"
      ]
     },
     "execution_count": 9,
     "metadata": {},
     "output_type": "execute_result"
    }
   ],
   "source": [
    "s_pinyin"
   ]
  }
 ],
 "metadata": {
  "kernelspec": {
   "display_name": ".venv",
   "language": "python",
   "name": "python3"
  },
  "language_info": {
   "codemirror_mode": {
    "name": "ipython",
    "version": 3
   },
   "file_extension": ".py",
   "mimetype": "text/x-python",
   "name": "python",
   "nbconvert_exporter": "python",
   "pygments_lexer": "ipython3",
   "version": "3.12.0"
  }
 },
 "nbformat": 4,
 "nbformat_minor": 5
}
