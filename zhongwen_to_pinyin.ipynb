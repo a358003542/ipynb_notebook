{
 "cells": [
  {
   "cell_type": "code",
   "execution_count": 1,
   "id": "bdf7bbd1-6575-4b80-952c-fe9c39f70cfe",
   "metadata": {},
   "outputs": [
    {
     "name": "stdout",
     "output_type": "stream",
     "text": [
      "Looking in indexes: https://pypi.tuna.tsinghua.edu.cn/simple\n",
      "Requirement already satisfied: pypinyin in c:\\users\\a3580\\appdata\\roaming\\python\\python312\\site-packages (0.52.0)\n",
      "Note: you may need to restart the kernel to use updated packages.\n"
     ]
    }
   ],
   "source": [
    "%pip install pypinyin --user"
   ]
  },
  {
   "cell_type": "code",
   "execution_count": 2,
   "id": "8288bd74-6af2-4511-92e9-f0b809184846",
   "metadata": {},
   "outputs": [],
   "source": [
    "from pypinyin import lazy_pinyin"
   ]
  },
  {
   "cell_type": "code",
   "execution_count": 3,
   "id": "594a84c7-2ea1-4b70-a2c8-604e114e0a51",
   "metadata": {},
   "outputs": [
    {
     "data": {
      "text/plain": [
       "['ta', 'na', 'tuo', 'la', 'ya', 'de', 'zang', 'li']"
      ]
     },
     "execution_count": 3,
     "metadata": {},
     "output_type": "execute_result"
    }
   ],
   "source": [
    "s = \"塔纳托拉雅的葬礼\"\n",
    "s_pinyin_l = lazy_pinyin(s)\n",
    "s_pinyin_l"
   ]
  },
  {
   "cell_type": "code",
   "execution_count": 4,
   "id": "19fceb93-4b4a-4cbe-ae73-29b028495786",
   "metadata": {},
   "outputs": [],
   "source": [
    "s_pinyin = '_'.join(s_pinyin_l)"
   ]
  },
  {
   "cell_type": "code",
   "execution_count": 5,
   "id": "21ea135f-1205-40c0-b864-78ca0a249c70",
   "metadata": {},
   "outputs": [
    {
     "data": {
      "text/plain": [
       "'ta_na_tuo_la_ya_de_zang_li'"
      ]
     },
     "execution_count": 5,
     "metadata": {},
     "output_type": "execute_result"
    }
   ],
   "source": [
    "s_pinyin"
   ]
  },
  {
   "cell_type": "code",
   "execution_count": null,
   "id": "852a98ef-00b0-46aa-92ba-326fbac712ff",
   "metadata": {},
   "outputs": [],
   "source": []
  },
  {
   "cell_type": "code",
   "execution_count": null,
   "id": "66629fc7-63db-4e13-b6e2-3979ac641c61",
   "metadata": {},
   "outputs": [],
   "source": []
  }
 ],
 "metadata": {
  "kernelspec": {
   "display_name": "Python 3 (ipykernel)",
   "language": "python",
   "name": "python3"
  },
  "language_info": {
   "codemirror_mode": {
    "name": "ipython",
    "version": 3
   },
   "file_extension": ".py",
   "mimetype": "text/x-python",
   "name": "python",
   "nbconvert_exporter": "python",
   "pygments_lexer": "ipython3",
   "version": "3.12.5"
  }
 },
 "nbformat": 4,
 "nbformat_minor": 5
}
