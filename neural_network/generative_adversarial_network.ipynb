{
 "cells": [
  {
   "cell_type": "code",
   "execution_count": 1,
   "metadata": {},
   "outputs": [
    {
     "name": "stdout",
     "output_type": "stream",
     "text": [
      "Using cuda device\n"
     ]
    }
   ],
   "source": [
    "import torch\n",
    "from pywander.neural_network.generative_adversarial_network import GAN, generate_random, generate_real"
   ]
  },
  {
   "cell_type": "code",
   "execution_count": 2,
   "metadata": {},
   "outputs": [],
   "source": [
    "gan = GAN(data_features=4)\n",
    "gan.to_device()"
   ]
  },
  {
   "cell_type": "code",
   "execution_count": 3,
   "metadata": {},
   "outputs": [
    {
     "name": "stdout",
     "output_type": "stream",
     "text": [
      "trained by: Discriminator loss: 0.242195  train_counter:  3000\n",
      "trained by: Discriminator loss: 0.189642  train_counter:  6000\n",
      "trained by: Discriminator loss: 0.173138  train_counter:  9000\n",
      "trained by: Discriminator loss: 0.217521  train_counter: 12000\n",
      "trained by: Discriminator loss: 0.251278  train_counter: 15000\n",
      "trained by: Discriminator loss: 0.261835  train_counter: 18000\n"
     ]
    }
   ],
   "source": [
    "for i in range(10000):\n",
    "    gan.train_one(generate_real(), torch.FloatTensor([1.0]))\n"
   ]
  },
  {
   "cell_type": "code",
   "execution_count": 4,
   "metadata": {},
   "outputs": [
    {
     "name": "stdout",
     "output_type": "stream",
     "text": [
      "tensor([0.9687, 0.0233, 0.9572, 0.0290], device='cuda:0',\n",
      "       grad_fn=<SigmoidBackward0>)\n",
      "tensor([0.9687, 0.0233, 0.9572, 0.0291], device='cuda:0',\n",
      "       grad_fn=<SigmoidBackward0>)\n",
      "tensor([0.9696, 0.0225, 0.9584, 0.0281], device='cuda:0',\n",
      "       grad_fn=<SigmoidBackward0>)\n",
      "tensor([0.9656, 0.0257, 0.9536, 0.0321], device='cuda:0',\n",
      "       grad_fn=<SigmoidBackward0>)\n",
      "tensor([0.9713, 0.0212, 0.9604, 0.0264], device='cuda:0',\n",
      "       grad_fn=<SigmoidBackward0>)\n",
      "tensor([0.9690, 0.0230, 0.9576, 0.0287], device='cuda:0',\n",
      "       grad_fn=<SigmoidBackward0>)\n",
      "tensor([0.9673, 0.0244, 0.9555, 0.0304], device='cuda:0',\n",
      "       grad_fn=<SigmoidBackward0>)\n",
      "tensor([0.9719, 0.0207, 0.9612, 0.0257], device='cuda:0',\n",
      "       grad_fn=<SigmoidBackward0>)\n",
      "tensor([0.9694, 0.0227, 0.9581, 0.0283], device='cuda:0',\n",
      "       grad_fn=<SigmoidBackward0>)\n",
      "tensor([0.9686, 0.0234, 0.9571, 0.0291], device='cuda:0',\n",
      "       grad_fn=<SigmoidBackward0>)\n"
     ]
    }
   ],
   "source": [
    "for i in range(10):\n",
    "    fake_input = torch.rand(1)\n",
    "    result = gan.generator.forward(fake_input.to(gan.device))\n",
    "    print(result)"
   ]
  },
  {
   "cell_type": "code",
   "execution_count": null,
   "metadata": {},
   "outputs": [],
   "source": []
  }
 ],
 "metadata": {
  "kernelspec": {
   "display_name": ".venv",
   "language": "python",
   "name": "python3"
  },
  "language_info": {
   "codemirror_mode": {
    "name": "ipython",
    "version": 3
   },
   "file_extension": ".py",
   "mimetype": "text/x-python",
   "name": "python",
   "nbconvert_exporter": "python",
   "pygments_lexer": "ipython3",
   "version": "3.12.0"
  }
 },
 "nbformat": 4,
 "nbformat_minor": 2
}
