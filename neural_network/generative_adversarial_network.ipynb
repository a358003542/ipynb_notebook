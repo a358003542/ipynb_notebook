{
 "cells": [
  {
   "cell_type": "code",
   "execution_count": 1,
   "metadata": {},
   "outputs": [
    {
     "name": "stdout",
     "output_type": "stream",
     "text": [
      "Using cuda device\n"
     ]
    }
   ],
   "source": [
    "import torch\n",
    "from pywander.neural_network.generative_adversarial_network import GAN, generate_random, generate_real"
   ]
  },
  {
   "cell_type": "code",
   "execution_count": 2,
   "metadata": {},
   "outputs": [],
   "source": [
    "gan = GAN(data_features=4)\n",
    "gan.to_device()"
   ]
  },
  {
   "cell_type": "code",
   "execution_count": 3,
   "metadata": {},
   "outputs": [
    {
     "name": "stdout",
     "output_type": "stream",
     "text": [
      "trained by: Discriminator loss: 0.224360  train_counter:  3000\n",
      "trained by: Discriminator loss: 0.169321  train_counter:  6000\n",
      "trained by: Discriminator loss: 0.199179  train_counter:  9000\n",
      "trained by: Discriminator loss: 0.236121  train_counter: 12000\n",
      "trained by: Discriminator loss: 0.255821  train_counter: 15000\n",
      "trained by: Discriminator loss: 0.263344  train_counter: 18000\n"
     ]
    }
   ],
   "source": [
    "for i in range(10000):\n",
    "    gan.train_one(generate_real(), torch.FloatTensor([1.0]))\n"
   ]
  },
  {
   "cell_type": "code",
   "execution_count": 4,
   "metadata": {},
   "outputs": [
    {
     "name": "stdout",
     "output_type": "stream",
     "text": [
      "tensor([0.9637, 0.0254, 0.9600, 0.0220], device='cuda:0',\n",
      "       grad_fn=<SigmoidBackward0>)\n",
      "tensor([0.9631, 0.0261, 0.9591, 0.0227], device='cuda:0',\n",
      "       grad_fn=<SigmoidBackward0>)\n",
      "tensor([0.9645, 0.0245, 0.9611, 0.0210], device='cuda:0',\n",
      "       grad_fn=<SigmoidBackward0>)\n",
      "tensor([0.9649, 0.0240, 0.9618, 0.0204], device='cuda:0',\n",
      "       grad_fn=<SigmoidBackward0>)\n",
      "tensor([0.9662, 0.0226, 0.9638, 0.0188], device='cuda:0',\n",
      "       grad_fn=<SigmoidBackward0>)\n",
      "tensor([0.9658, 0.0230, 0.9631, 0.0194], device='cuda:0',\n",
      "       grad_fn=<SigmoidBackward0>)\n",
      "tensor([0.9632, 0.0259, 0.9593, 0.0225], device='cuda:0',\n",
      "       grad_fn=<SigmoidBackward0>)\n",
      "tensor([0.9660, 0.0228, 0.9635, 0.0191], device='cuda:0',\n",
      "       grad_fn=<SigmoidBackward0>)\n",
      "tensor([0.9638, 0.0252, 0.9602, 0.0218], device='cuda:0',\n",
      "       grad_fn=<SigmoidBackward0>)\n",
      "tensor([0.9663, 0.0224, 0.9639, 0.0187], device='cuda:0',\n",
      "       grad_fn=<SigmoidBackward0>)\n"
     ]
    }
   ],
   "source": [
    "for i in range(10):\n",
    "    fake_input = torch.rand(1)\n",
    "    result = gan.generator.forward(fake_input.to(gan.device))\n",
    "    print(result)"
   ]
  },
  {
   "cell_type": "code",
   "execution_count": null,
   "metadata": {},
   "outputs": [],
   "source": []
  }
 ],
 "metadata": {
  "kernelspec": {
   "display_name": "Python 3",
   "language": "python",
   "name": "python3"
  },
  "language_info": {
   "codemirror_mode": {
    "name": "ipython",
    "version": 3
   },
   "file_extension": ".py",
   "mimetype": "text/x-python",
   "name": "python",
   "nbconvert_exporter": "python",
   "pygments_lexer": "ipython3",
   "version": "3.12.10"
  }
 },
 "nbformat": 4,
 "nbformat_minor": 2
}
