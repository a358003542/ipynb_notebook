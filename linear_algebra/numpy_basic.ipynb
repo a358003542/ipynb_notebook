{
 "cells": [
  {
   "cell_type": "markdown",
   "metadata": {},
   "source": [
    "## 如何引入numpy\n",
    "下面的引用语句已经是惯例了。"
   ]
  },
  {
   "cell_type": "code",
   "execution_count": 1,
   "metadata": {},
   "outputs": [],
   "source": [
    "import numpy as np"
   ]
  },
  {
   "cell_type": "markdown",
   "metadata": {},
   "source": [
    "## ndarray对象\n",
    "numpy提供了ndarray对象，其有点类似于python的列表，但有以下区别：\n",
    "\n",
    "1.  numpy的ndarray对象内部的各个item是相同的数据类型，都占用相同的内存大小。\n",
    "2.  numpy的ndarray对象比python的列表更高效，占用空间更小，运算速度更快。\n",
    "3.  numpy的ndarray对象提供了丰富的API支持，让科学计算变得更容易。\n",
    "\n",
    "在后面提到array或者数组的时候就是指numpy的ndarray对象。"
   ]
  },
  {
   "cell_type": "markdown",
   "metadata": {},
   "source": [
    "## 创建一个一维数组"
   ]
  },
  {
   "cell_type": "code",
   "execution_count": 2,
   "metadata": {},
   "outputs": [
    {
     "data": {
      "text/plain": [
       "array([1, 5, 2, 0])"
      ]
     },
     "execution_count": 2,
     "metadata": {},
     "output_type": "execute_result"
    }
   ],
   "source": [
    "a_1 = np.array([1, 5, 2, 0])\n",
    "a_1"
   ]
  },
  {
   "cell_type": "markdown",
   "metadata": {},
   "source": [
    "## 创建一个二维数组"
   ]
  },
  {
   "cell_type": "code",
   "execution_count": 3,
   "metadata": {},
   "outputs": [
    {
     "data": {
      "text/plain": [
       "array([[1, 5, 2, 0],\n",
       "       [8, 3, 6, 1],\n",
       "       [1, 7, 2, 9]])"
      ]
     },
     "execution_count": 3,
     "metadata": {},
     "output_type": "execute_result"
    }
   ],
   "source": [
    "a_2 = np.array([[1, 5, 2,0],[8,3,6,1],[1,7,2,9]])\n",
    "a_2"
   ]
  },
  {
   "cell_type": "markdown",
   "metadata": {},
   "source": [
    "## 多维数组的维度和shape\n"
   ]
  },
  {
   "cell_type": "code",
   "execution_count": 4,
   "metadata": {},
   "outputs": [
    {
     "data": {
      "text/plain": [
       "2"
      ]
     },
     "execution_count": 4,
     "metadata": {},
     "output_type": "execute_result"
    }
   ],
   "source": [
    "a_2.ndim"
   ]
  },
  {
   "cell_type": "code",
   "execution_count": 5,
   "metadata": {},
   "outputs": [
    {
     "data": {
      "text/plain": [
       "(3, 4)"
      ]
     },
     "execution_count": 5,
     "metadata": {},
     "output_type": "execute_result"
    }
   ],
   "source": [
    "a_2.shape"
   ]
  },
  {
   "cell_type": "markdown",
   "metadata": {},
   "source": [
    "### numpy里面轴的概念\n",
    "\n",
    "numpy里的轴的概念大体类似于张量里面描述的维度的概念，所以经常看到这两个词在描述上相互混用，这大体是没有问题的。人们要描述在那个轴或维度上元素的容量，说轴的大小，或者该维度的长度这样的长形容词当然是没有问题，唯一要注意的是如果说轴数或者维数，很容易误解为是在描述轴的数目或者维度的数目，但也有这样的区分尝试，那就是试着将维度和维数这两个词进行概念的区分，维度的数目称之为阶数，而该维度上元素的数目称之为维数，这似乎更多是英文语境上的尝试，中文语境上维数还是非常容易误解为就是在描述维度的数目，直接说该维度的长度或者该维度的容量，含义清晰明确很多。\n",
    "\n",
    "以上面的a_2举例来说明，其维度为2，有两个轴，其中维度0在numpy里面有时会称为轴0，轴0的大小为3，也就是容纳了三个元素；轴1的大小为4，也就是容纳了四个元素。\n",
    "\n",
    "对于二维数组或者说类似矩阵的情况，可以用维度0垂直向下，维度1水平向右，按照某个维度操作之后都会降维到一维数组，这还是很方便的。\n",
    "\n",
    "但对于更高的维度上的理解，从空间想象角度出发并不是一个好主意。下面提供了一些理解思路：\n",
    "\n",
    "1. 从取值的角度理解，比如比如上面的a_2的元素3，其具体定位为维度0=1，轴1=1，也就是(1,1)。\n",
    "\n",
    "2. 多维数组执行按照某个维度的操作，先将目标数组按照指定维度拆分，然后将这些拆分出来的数组应用目标函数。看下面详细的例子："
   ]
  },
  {
   "cell_type": "code",
   "execution_count": 6,
   "metadata": {},
   "outputs": [
    {
     "data": {
      "text/plain": [
       "np.int64(3)"
      ]
     },
     "execution_count": 6,
     "metadata": {},
     "output_type": "execute_result"
    }
   ],
   "source": [
    "a_2[1,1]"
   ]
  },
  {
   "cell_type": "code",
   "execution_count": 7,
   "metadata": {},
   "outputs": [
    {
     "data": {
      "text/plain": [
       "array([[1, 5, 2, 0],\n",
       "       [8, 3, 6, 1],\n",
       "       [1, 7, 2, 9]])"
      ]
     },
     "execution_count": 7,
     "metadata": {},
     "output_type": "execute_result"
    }
   ],
   "source": [
    "a_2"
   ]
  },
  {
   "cell_type": "code",
   "execution_count": 8,
   "metadata": {},
   "outputs": [
    {
     "data": {
      "text/plain": [
       "array([1, 5, 2, 0])"
      ]
     },
     "execution_count": 8,
     "metadata": {},
     "output_type": "execute_result"
    }
   ],
   "source": [
    "# 按照维度0进行拆分\n",
    "a_2[0,:]"
   ]
  },
  {
   "cell_type": "code",
   "execution_count": 9,
   "metadata": {},
   "outputs": [
    {
     "data": {
      "text/plain": [
       "array([8, 3, 6, 1])"
      ]
     },
     "execution_count": 9,
     "metadata": {},
     "output_type": "execute_result"
    }
   ],
   "source": [
    "a_2[1,:]"
   ]
  },
  {
   "cell_type": "code",
   "execution_count": 10,
   "metadata": {},
   "outputs": [
    {
     "data": {
      "text/plain": [
       "array([1, 7, 2, 9])"
      ]
     },
     "execution_count": 10,
     "metadata": {},
     "output_type": "execute_result"
    }
   ],
   "source": [
    "a_2[2,:]"
   ]
  },
  {
   "cell_type": "markdown",
   "metadata": {},
   "source": [
    "`a_2.sum(axis=0)` 可以理解为  `= sum(a_2[0,:],a_2[1,:], a_2[2,:])` 。"
   ]
  },
  {
   "cell_type": "code",
   "execution_count": 11,
   "metadata": {},
   "outputs": [
    {
     "data": {
      "text/plain": [
       "array([10, 15, 10, 10])"
      ]
     },
     "execution_count": 11,
     "metadata": {},
     "output_type": "execute_result"
    }
   ],
   "source": [
    "a_2.sum(axis=0)"
   ]
  },
  {
   "cell_type": "markdown",
   "metadata": {},
   "source": [
    "再来看看三维的情况。"
   ]
  },
  {
   "cell_type": "code",
   "execution_count": 12,
   "metadata": {},
   "outputs": [
    {
     "data": {
      "text/plain": [
       "array([[[ 1,  2,  3,  4],\n",
       "        [ 5,  6,  7,  8],\n",
       "        [ 9, 10, 11, 12]],\n",
       "\n",
       "       [[13, 14, 15, 16],\n",
       "        [17, 18, 19, 20],\n",
       "        [21, 22, 23, 24]]])"
      ]
     },
     "execution_count": 12,
     "metadata": {},
     "output_type": "execute_result"
    }
   ],
   "source": [
    "a_3 = np.arange(1,25)\n",
    "a_3 = a_3.reshape((2,3,4))\n",
    "a_3"
   ]
  },
  {
   "cell_type": "code",
   "execution_count": 13,
   "metadata": {},
   "outputs": [
    {
     "data": {
      "text/plain": [
       "array([[ 1,  2,  3,  4],\n",
       "       [13, 14, 15, 16]])"
      ]
     },
     "execution_count": 13,
     "metadata": {},
     "output_type": "execute_result"
    }
   ],
   "source": [
    "a_3[:,0,:]"
   ]
  },
  {
   "cell_type": "code",
   "execution_count": 14,
   "metadata": {},
   "outputs": [
    {
     "data": {
      "text/plain": [
       "array([[ 5,  6,  7,  8],\n",
       "       [17, 18, 19, 20]])"
      ]
     },
     "execution_count": 14,
     "metadata": {},
     "output_type": "execute_result"
    }
   ],
   "source": [
    "a_3[:,1,:]"
   ]
  },
  {
   "cell_type": "code",
   "execution_count": 15,
   "metadata": {},
   "outputs": [
    {
     "data": {
      "text/plain": [
       "array([[ 9, 10, 11, 12],\n",
       "       [21, 22, 23, 24]])"
      ]
     },
     "execution_count": 15,
     "metadata": {},
     "output_type": "execute_result"
    }
   ],
   "source": [
    "a_3[:,2,:]"
   ]
  },
  {
   "cell_type": "markdown",
   "metadata": {},
   "source": [
    "`a_3.sum(axis=1)` 可以理解为 `= sum(a_3[:,0,:], a_3[:,1,:], a_3[:,2,:])` 。"
   ]
  },
  {
   "cell_type": "code",
   "execution_count": 16,
   "metadata": {},
   "outputs": [
    {
     "data": {
      "text/plain": [
       "array([[15, 18, 21, 24],\n",
       "       [51, 54, 57, 60]])"
      ]
     },
     "execution_count": 16,
     "metadata": {},
     "output_type": "execute_result"
    }
   ],
   "source": [
    "a_3.sum(axis=1)"
   ]
  },
  {
   "cell_type": "markdown",
   "metadata": {},
   "source": [
    "## 创建一个全是0的多维数组"
   ]
  },
  {
   "cell_type": "code",
   "execution_count": 17,
   "metadata": {},
   "outputs": [
    {
     "data": {
      "text/plain": [
       "array([0., 0., 0., 0., 0., 0., 0., 0., 0., 0.])"
      ]
     },
     "execution_count": 17,
     "metadata": {},
     "output_type": "execute_result"
    }
   ],
   "source": [
    "np.zeros(10)"
   ]
  },
  {
   "cell_type": "code",
   "execution_count": 18,
   "metadata": {},
   "outputs": [
    {
     "data": {
      "text/plain": [
       "array([[0., 0., 0., 0., 0., 0.],\n",
       "       [0., 0., 0., 0., 0., 0.],\n",
       "       [0., 0., 0., 0., 0., 0.],\n",
       "       [0., 0., 0., 0., 0., 0.]])"
      ]
     },
     "execution_count": 18,
     "metadata": {},
     "output_type": "execute_result"
    }
   ],
   "source": [
    "np.zeros((4,6))"
   ]
  },
  {
   "cell_type": "markdown",
   "metadata": {},
   "source": [
    "## 创建一个全是1的多维数组"
   ]
  },
  {
   "cell_type": "code",
   "execution_count": 19,
   "metadata": {},
   "outputs": [
    {
     "data": {
      "text/plain": [
       "array([1., 1., 1., 1., 1., 1., 1., 1., 1.])"
      ]
     },
     "execution_count": 19,
     "metadata": {},
     "output_type": "execute_result"
    }
   ],
   "source": [
    "np.ones(9)"
   ]
  },
  {
   "cell_type": "code",
   "execution_count": 20,
   "metadata": {},
   "outputs": [
    {
     "data": {
      "text/plain": [
       "array([[1., 1., 1., 1.],\n",
       "       [1., 1., 1., 1.],\n",
       "       [1., 1., 1., 1.]])"
      ]
     },
     "execution_count": 20,
     "metadata": {},
     "output_type": "execute_result"
    }
   ],
   "source": [
    "np.ones((3,4))"
   ]
  },
  {
   "cell_type": "markdown",
   "metadata": {},
   "source": [
    "## arange函数\n",
    "返回一个一维数组，大体类似于python内置的range函数。\n",
    "\n",
    "arange函数的应用场景是从start到end的某个step的整数序列，因为是整数，加上半开半闭区间规则，最终输出元素数量是很清晰的，但如果里面有小数，输出情况就不是那么容易想象了，这时推荐使用linspace函数。"
   ]
  },
  {
   "cell_type": "code",
   "execution_count": 21,
   "metadata": {},
   "outputs": [
    {
     "data": {
      "text/plain": [
       "array([1, 2, 3, 4])"
      ]
     },
     "execution_count": 21,
     "metadata": {},
     "output_type": "execute_result"
    }
   ],
   "source": [
    "np.arange(1,5)"
   ]
  },
  {
   "cell_type": "markdown",
   "metadata": {},
   "source": [
    "## linspace函数\n",
    "返回一个一维数组，参数确定了开始数和结束数，第三个参数是你想要多少个数。"
   ]
  },
  {
   "cell_type": "code",
   "execution_count": 22,
   "metadata": {},
   "outputs": [
    {
     "data": {
      "text/plain": [
       "array([1.        , 1.44444444, 1.88888889, 2.33333333, 2.77777778,\n",
       "       3.22222222, 3.66666667, 4.11111111, 4.55555556, 5.        ])"
      ]
     },
     "execution_count": 22,
     "metadata": {},
     "output_type": "execute_result"
    }
   ],
   "source": [
    "np.linspace(1,5,10)"
   ]
  },
  {
   "cell_type": "markdown",
   "metadata": {},
   "source": [
    "## 由一维数组变形为多维数组"
   ]
  },
  {
   "cell_type": "code",
   "execution_count": 23,
   "metadata": {},
   "outputs": [
    {
     "data": {
      "text/plain": [
       "array([[[ 1,  2,  3,  4],\n",
       "        [ 5,  6,  7,  8],\n",
       "        [ 9, 10, 11, 12]],\n",
       "\n",
       "       [[13, 14, 15, 16],\n",
       "        [17, 18, 19, 20],\n",
       "        [21, 22, 23, 24]]])"
      ]
     },
     "execution_count": 23,
     "metadata": {},
     "output_type": "execute_result"
    }
   ],
   "source": [
    "a_3 = np.arange(1,25)\n",
    "a_3\n",
    "a_3 = a_3.reshape((2,3,4))\n",
    "a_3"
   ]
  },
  {
   "cell_type": "markdown",
   "metadata": {},
   "source": [
    "## 多维数组的按元素运算\n",
    "如果一个多维数组和一个标量进行某种运算，这意味着该数组的各个元素分别和该标量进行那种运算。\n",
    "\n",
    "如果两个多维数组是相同的形状，它们之间进行某种运算numpy的处理是这两个多维数组对应的元素分别进行相应的那种运算，再组成新的数组。\n",
    "\n",
    "numpy在进行上述两种运算任务，当然也需要用循环逐个遍历多维数组，只是具体实现的代码是更快的C语言实现，这正是numpy更高效的一大原因。\n"
   ]
  },
  {
   "cell_type": "code",
   "execution_count": 24,
   "metadata": {},
   "outputs": [
    {
     "data": {
      "text/plain": [
       "array([[2., 2., 2., 2.],\n",
       "       [2., 2., 2., 2.],\n",
       "       [2., 2., 2., 2.]])"
      ]
     },
     "execution_count": 24,
     "metadata": {},
     "output_type": "execute_result"
    }
   ],
   "source": [
    "# 标量和多维数组进行按元素运算\n",
    "np.ones((3,4)) * 2"
   ]
  },
  {
   "cell_type": "code",
   "execution_count": 25,
   "metadata": {},
   "outputs": [
    {
     "data": {
      "text/plain": [
       "array([[ 2., 10.,  4.,  0.],\n",
       "       [16.,  6., 12.,  2.],\n",
       "       [ 2., 14.,  4., 18.]])"
      ]
     },
     "execution_count": 25,
     "metadata": {},
     "output_type": "execute_result"
    }
   ],
   "source": [
    "# 前面的乘法并不是矩阵的乘法，而是两个同样3行4列的多维数组按元素相乘 \n",
    "a_2 * np.ones((3,4)) * 2"
   ]
  },
  {
   "cell_type": "markdown",
   "metadata": {},
   "source": [
    "## 索引和切片\n",
    "numpy多维数组的索引和切片语法和python的列表语法大体类似，尤其是在一维数组的情况下，在多维数组的时候，numpy提供了额外的索引某个元素的语法： `a_2[0,1]` ，含义就是取元素的值位置在轴0=0，轴1=1的位置。"
   ]
  },
  {
   "cell_type": "code",
   "execution_count": 26,
   "metadata": {},
   "outputs": [
    {
     "data": {
      "text/plain": [
       "np.int64(5)"
      ]
     },
     "execution_count": 26,
     "metadata": {},
     "output_type": "execute_result"
    }
   ],
   "source": [
    "a_2[0,1]"
   ]
  },
  {
   "cell_type": "markdown",
   "metadata": {},
   "source": [
    "索引的话含义大体和python中列表的索引含义相同，获得一个指向原数据的扳手，但numpy的多维数组的切片和python列表的切片有个很大的不同：**多维数组的切片创建的是一个视图**。这里视图的意思是仍然是一个指向原数据的扳手，而python列表的切片是另外创建一个新的列表了。\n"
   ]
  },
  {
   "cell_type": "code",
   "execution_count": 27,
   "metadata": {},
   "outputs": [
    {
     "data": {
      "text/plain": [
       "array([[0, 1, 2, 3, 4],\n",
       "       [5, 6, 7, 8, 9]])"
      ]
     },
     "execution_count": 27,
     "metadata": {},
     "output_type": "execute_result"
    }
   ],
   "source": [
    "# resize和reshape的区别就是resize是原地修改的\n",
    "a_4 = np.arange(0,10)\n",
    "a_4.resize((2,5))\n",
    "a_4"
   ]
  },
  {
   "cell_type": "code",
   "execution_count": 28,
   "metadata": {},
   "outputs": [
    {
     "data": {
      "text/plain": [
       "array([[1, 2],\n",
       "       [6, 7]])"
      ]
     },
     "execution_count": 28,
     "metadata": {},
     "output_type": "execute_result"
    }
   ],
   "source": [
    "a_4[:,1:3]"
   ]
  },
  {
   "cell_type": "code",
   "execution_count": 29,
   "metadata": {},
   "outputs": [
    {
     "data": {
      "text/plain": [
       "array([[ 0, 10, 10,  3,  4],\n",
       "       [ 5, 10, 10,  8,  9]])"
      ]
     },
     "execution_count": 29,
     "metadata": {},
     "output_type": "execute_result"
    }
   ],
   "source": [
    "a_4[:,1:3] = 10\n",
    "a_4"
   ]
  },
  {
   "cell_type": "markdown",
   "metadata": {},
   "source": [
    "## 多维数组的copy方法\n",
    "如果你希望获得某个切片的副本而不是视图，可以调用该切片的copy方法: `a_4[:,1:3].copy()`"
   ]
  },
  {
   "cell_type": "markdown",
   "metadata": {},
   "source": [
    "## 布尔型索引\n"
   ]
  },
  {
   "cell_type": "markdown",
   "metadata": {},
   "source": [
    "## 生成随机数多维数组\n"
   ]
  },
  {
   "cell_type": "code",
   "execution_count": 30,
   "metadata": {},
   "outputs": [
    {
     "data": {
      "text/plain": [
       "array([[0.04950243, 0.20738574, 0.97313375, 0.22513964],\n",
       "       [0.5927912 , 0.10001815, 0.78786689, 0.92651094],\n",
       "       [0.81989975, 0.84893898, 0.31976775, 0.30911042]])"
      ]
     },
     "execution_count": 30,
     "metadata": {},
     "output_type": "execute_result"
    }
   ],
   "source": [
    "np.random.rand(3, 4)"
   ]
  },
  {
   "cell_type": "markdown",
   "metadata": {},
   "source": [
    "## 多维数组的堆叠操作\n",
    "\n",
    "- `np.vstack()`  垂直堆叠\n",
    "- `np.hstack()`  水平堆叠\n",
    "- `np.hsplit()`  多维数组水平切分\n",
    "\n",
    "这些在线性代数中很有用，后面再讨论。"
   ]
  },
  {
   "cell_type": "markdown",
   "metadata": {},
   "source": [
    "## 广播机制\n",
    "numpy内部实现广播机制来实现内部计算加速，但是上层应用使用这种广播机制编码并不是一个好的编码风格，这个和隐式类型转换一样，能少用就少用。\n",
    "\n",
    "我不想对这这个广播机制做太多介绍，一个简单的理解就是numpy在对不同形状的数组进行某种运算的时候，会先试着运用广播机制，让这两个数组变得形状一样，好进行按元素的运算。具体情况请看下面例子："
   ]
  },
  {
   "cell_type": "code",
   "execution_count": 31,
   "metadata": {},
   "outputs": [
    {
     "name": "stdout",
     "output_type": "stream",
     "text": [
      "[[0]\n",
      " [1]\n",
      " [2]]\n",
      "[[0 1]]\n"
     ]
    }
   ],
   "source": [
    "a_5 = np.arange(3).reshape((3, 1))\n",
    "a_6 = np.arange(2).reshape((1, 2))\n",
    "print(a_5)\n",
    "print(a_6)"
   ]
  },
  {
   "cell_type": "markdown",
   "metadata": {},
   "source": [
    "建议先观察下如果应用广播规则输出的情况。"
   ]
  },
  {
   "cell_type": "code",
   "execution_count": 32,
   "metadata": {},
   "outputs": [
    {
     "data": {
      "text/plain": [
       "(array([[0, 0],\n",
       "        [1, 1],\n",
       "        [2, 2]]),\n",
       " array([[0, 1],\n",
       "        [0, 1],\n",
       "        [0, 1]]))"
      ]
     },
     "execution_count": 32,
     "metadata": {},
     "output_type": "execute_result"
    }
   ],
   "source": [
    "np.broadcast_arrays(a_5, a_6)"
   ]
  },
  {
   "cell_type": "code",
   "execution_count": 33,
   "metadata": {},
   "outputs": [
    {
     "data": {
      "text/plain": [
       "array([[0, 1],\n",
       "       [1, 2],\n",
       "       [2, 3]])"
      ]
     },
     "execution_count": 33,
     "metadata": {},
     "output_type": "execute_result"
    }
   ],
   "source": [
    "a_5 + a_6"
   ]
  }
 ],
 "metadata": {
  "kernelspec": {
   "display_name": "Python 3",
   "language": "python",
   "name": "python3"
  },
  "language_info": {
   "codemirror_mode": {
    "name": "ipython",
    "version": 3
   },
   "file_extension": ".py",
   "mimetype": "text/x-python",
   "name": "python",
   "nbconvert_exporter": "python",
   "pygments_lexer": "ipython3",
   "version": "3.12.10"
  }
 },
 "nbformat": 4,
 "nbformat_minor": 2
}
