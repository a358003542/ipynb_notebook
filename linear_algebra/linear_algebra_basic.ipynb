{
 "cells": [
  {
   "cell_type": "code",
   "execution_count": 1,
   "metadata": {},
   "outputs": [],
   "source": [
    "import numpy as np"
   ]
  },
  {
   "cell_type": "markdown",
   "metadata": {},
   "source": [
    "## 判断两个向量能否组成平面\n",
    "\n",
    "在向量空间中，判断两个向量的线性组合是否能够组成一个平面，本质上是判断这两个向量是否线性无关。如果两个向量线性无关，那么它们的线性组合可以张成一个二维平面；如果两个向量线性相关，那么它们的线性组合只能张成一条直线，而不能张成平面。\n",
    "\n",
    "对于两个 $n$ 维向量 $\\vec{v}_1$ 和 $\\vec{v}_2$ ，若存在不全为零的实数 $k_1$ 和 $k_2$ ，使得 $k_1 \\vec{v}_1  + k_2 \\vec{v}_2  = \\vec{0} $ 成立，则称这两个向量线性相关；反之，若只有当 $k_1 = k_2 = 0 $ 时， $k_1 \\vec{v}_1  + k_2 \\vec{v}_2  = \\vec{0} $ 才成立，则称这两个向量线性无关。\n",
    "\n",
    "在实际计算中，对于二维或三维向量，可通过计算向量叉积（仅适用于三维向量）或判断向量是否成比例（适用于任意维度）来判断线性相关性；对于更高维度的向量，通常将这两个向量作为列向量构成一个矩阵，然后计算该矩阵的秩。若矩阵的秩为 2，则两个向量线性无关，它们的线性组合可以组成一个平面；若矩阵的秩为 1，则两个向量线性相关，它们的线性组合只能组成一条直线。"
   ]
  },
  {
   "cell_type": "code",
   "execution_count": 2,
   "metadata": {},
   "outputs": [
    {
     "data": {
      "text/plain": [
       "False"
      ]
     },
     "execution_count": 2,
     "metadata": {},
     "output_type": "execute_result"
    }
   ],
   "source": [
    "from pywander.math.linear_algebra import can_form_plane\n",
    "\n",
    "can_form_plane(np.array((1,2,3)), np.array((3,6,9)))"
   ]
  },
  {
   "cell_type": "code",
   "execution_count": 3,
   "metadata": {},
   "outputs": [
    {
     "data": {
      "text/plain": [
       "True"
      ]
     },
     "execution_count": 3,
     "metadata": {},
     "output_type": "execute_result"
    }
   ],
   "source": [
    "can_form_plane(np.array((1,0,0)), np.array((0,2,3)))"
   ]
  },
  {
   "cell_type": "markdown",
   "metadata": {},
   "source": [
    "## 判断三个向量能够组成三维向量空间\n",
    "\n",
    "在向量空间中，判断三个向量的线性组合是否能够组成一个空间（通常指三维向量空间 $\\mathbb{R}^3$ ），本质上是判断这三个向量是否线性无关。如果三个向量线性无关，那么它们的线性组合可以张成一个三维空间；如果三个向量线性相关，那么它们的线性组合只能张成一个平面、一条直线或者仅仅是一个点。"
   ]
  },
  {
   "cell_type": "code",
   "execution_count": 4,
   "metadata": {},
   "outputs": [
    {
     "data": {
      "text/plain": [
       "True"
      ]
     },
     "execution_count": 4,
     "metadata": {},
     "output_type": "execute_result"
    }
   ],
   "source": [
    "from pywander.math.linear_algebra import can_form_3d_space\n",
    "v1 = np.array((2,0,0))\n",
    "v2 = np.array((0,2,2))\n",
    "v3 = np.array((2,2,3))\n",
    "can_form_3d_space(v1, v2, v3)"
   ]
  },
  {
   "cell_type": "markdown",
   "metadata": {},
   "source": [
    "## 向量空间的维度\n",
    "向量按列组成的矩阵，该矩阵的秩就是这组向量线性组合而成的向量空间的维度。"
   ]
  },
  {
   "cell_type": "code",
   "execution_count": 5,
   "metadata": {},
   "outputs": [
    {
     "name": "stdout",
     "output_type": "stream",
     "text": [
      "这组向量的线性组合组成的向量空间维度为 3 ,等于向量数,这组向量是线性无关的.\n",
      "这组向量的线性组合是向量空间中的3维空间 $\\mathbb{R}^3$ .\n"
     ]
    }
   ],
   "source": [
    "from pywander.math.linear_algebra import dimension_of_linear_combination\n",
    "dimension_of_linear_combination(v1, v2,v3)"
   ]
  },
  {
   "cell_type": "code",
   "execution_count": 6,
   "metadata": {},
   "outputs": [
    {
     "name": "stdout",
     "output_type": "stream",
     "text": [
      "这组向量的线性组合是向量空间中的一条直线.\n"
     ]
    }
   ],
   "source": [
    "dimension_of_linear_combination(np.array((1,2,3)), np.array((3,6,9)))"
   ]
  },
  {
   "cell_type": "code",
   "execution_count": 7,
   "metadata": {},
   "outputs": [
    {
     "name": "stdout",
     "output_type": "stream",
     "text": [
      "这组向量的线性组合组成的向量空间维度为 2 ,等于向量数,这组向量是线性无关的.\n",
      "这组向量的线性组合是向量空间中的一个平面.\n"
     ]
    }
   ],
   "source": [
    "dimension_of_linear_combination(np.array((1,0,0)), np.array((0,2,3)))"
   ]
  },
  {
   "cell_type": "markdown",
   "metadata": {},
   "source": [
    "## 计算向量之间的余弦相似度\n",
    "余弦相似度是一种常用的衡量两个向量之间相似度的方法，它通过计算两个向量夹角的余弦值来评估它们的方向相似性。\n",
    "\n",
    "当 $cos(\\theta) = 1$ 时，两个向量方向完全相同，相似度最高。\n",
    "\n",
    "当  $cos(\\theta) = -1$ 时，两个向量方向完全相反，相似度最低。\n",
    "\n",
    "当  $cos(\\theta) = 0$ 时，两个向量相互垂直，没有方向上的相似性。\n",
    "\n",
    "在计算余弦相似度之前对向量进行归一化是有好处的。因为余弦相似度的计算本质上只与向量的方向有关，而向量归一化（通常采用 L2 归一化）可以将向量的模长变为 1，这样在计算余弦相似度时，就不需要再分别计算向量的模长，从而简化计算过程。\n"
   ]
  },
  {
   "cell_type": "code",
   "execution_count": 8,
   "metadata": {},
   "outputs": [
    {
     "name": "stdout",
     "output_type": "stream",
     "text": [
      "向量之间的余弦相似度为: 0.9746318461970762\n"
     ]
    }
   ],
   "source": [
    "from pywander.math.linear_algebra import cosine_similarity\n",
    "# 示例向量\n",
    "vector_a = np.array([1, 2, 3])\n",
    "vector_b = np.array([4, 5, 6])\n",
    "\n",
    "# 计算归一化后的余弦相似度\n",
    "result = cosine_similarity(vector_a, vector_b)\n",
    "print(\"向量之间的余弦相似度为:\", result)"
   ]
  }
 ],
 "metadata": {
  "kernelspec": {
   "display_name": "Python 3",
   "language": "python",
   "name": "python3"
  },
  "language_info": {
   "codemirror_mode": {
    "name": "ipython",
    "version": 3
   },
   "file_extension": ".py",
   "mimetype": "text/x-python",
   "name": "python",
   "nbconvert_exporter": "python",
   "pygments_lexer": "ipython3",
   "version": "3.12.10"
  }
 },
 "nbformat": 4,
 "nbformat_minor": 2
}
