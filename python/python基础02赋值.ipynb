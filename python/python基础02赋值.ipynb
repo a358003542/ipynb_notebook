{
 "cells": [
  {
   "cell_type": "markdown",
   "id": "81ed9b95",
   "metadata": {},
   "source": [
    "### 基本赋值语句\n",
    "python中的赋值语法非常的简单，`x=1` ，就是一个赋值语句了。和c语言不同，c是必须先声明变量类型： `int x` ，根据声明的类型开辟一个内存空间，然后才能给这个x赋值。而python的 `x=1` 语句实际上至少完成了三个工作：\n",
    "\n",
    "1. 判断1的类型（动态类型语言必须要有这步）\n",
    "2. 把这个类型的对象存储在内存里面\n",
    "3. 创建x这个名字和将这个名字指向这个内存"
   ]
  },
  {
   "cell_type": "markdown",
   "id": "ffd47904",
   "metadata": {},
   "source": [
    "### 序列赋值\n",
    "先看例子："
   ]
  },
  {
   "cell_type": "code",
   "execution_count": 1,
   "id": "17a19506",
   "metadata": {},
   "outputs": [
    {
     "name": "stdout",
     "output_type": "stream",
     "text": [
      "1 a b 10\n"
     ]
    }
   ],
   "source": [
    "x,y=1,'a'\n",
    "[z,w]=['b',10]\n",
    "print(x,y,z,w)"
   ]
  },
  {
   "cell_type": "markdown",
   "id": "d08221f0",
   "metadata": {},
   "source": [
    "python中表达式可以加上圆括号，所以上面的赋值语句左边 `x,y` 实际上是 `(x,y)`，右边 `1, 'a'` 实际上是 `(1, 'a')` 。然后python基于左右两边的元组或列表——即序列来进一步完成变量的赋值动作。\n",
    "\n",
    "1. (x, y) = (1, 'a')\n",
    "2. 从左边取出变量x，从右边取出值1，完成赋值动作 `x=1`\n",
    "3. 从左边取出变量y，从右边取出值'a'，完成赋值动作 `y='a'`"
   ]
  },
  {
   "cell_type": "markdown",
   "id": "ad15f568",
   "metadata": {},
   "source": [
    "#### 交换两个元素\n",
    "实现了其他编程语言中需要额外编写的swap函数的功能：\n",
    "\n",
    "这个过程显然不是先执行x=y然后执行y=x，python会根据右边的表达式来创建一个临时的序列对象，并进一步完成上面描述的序列赋值动作。"
   ]
  },
  {
   "cell_type": "code",
   "execution_count": 2,
   "id": "b4811f79",
   "metadata": {},
   "outputs": [
    {
     "name": "stdout",
     "output_type": "stream",
     "text": [
      "2 1\n"
     ]
    }
   ],
   "source": [
    "x = 1\n",
    "y = 2\n",
    "x,y = y,x\n",
    "print(x,y)"
   ]
  },
  {
   "cell_type": "markdown",
   "id": "2e2e9917",
   "metadata": {},
   "source": [
    "### 迭代赋值\n",
    "序列是可迭代对象，那么如果右边是一个可迭代对象，可以完成类似的赋值动作吗，有的，这个赋值动作叫迭代赋值："
   ]
  },
  {
   "cell_type": "code",
   "execution_count": 3,
   "id": "93cef3ef",
   "metadata": {},
   "outputs": [
    {
     "name": "stdout",
     "output_type": "stream",
     "text": [
      "1 2 3\n"
     ]
    }
   ],
   "source": [
    "x,y,z= map(lambda x : x+2,[-1,0,1])\n",
    "print(x,y,z)"
   ]
  },
  {
   "cell_type": "markdown",
   "id": "f3be917b",
   "metadata": {},
   "source": [
    "### 解包赋值\n",
    "序列赋值和迭代赋值要确保左边的变量数目和右边可迭代出来的值的数目是一一对应的，而解包赋值可以收集不定的值到一个变量中去，或者可以称之为通配赋值："
   ]
  },
  {
   "cell_type": "code",
   "execution_count": 4,
   "id": "eb8d0e4f",
   "metadata": {},
   "outputs": [
    {
     "name": "stdout",
     "output_type": "stream",
     "text": [
      "1 2 [3, 4]\n"
     ]
    }
   ],
   "source": [
    "x,y,*z= map(lambda x : x+2,[-1,0,1,2])\n",
    "print(x,y,z)"
   ]
  },
  {
   "cell_type": "markdown",
   "id": "1dfd8c2c",
   "metadata": {},
   "source": [
    "看到这里读者一定在想，函数那边参数的传递应该也是类似的机制，不过还是有点区别的，解包赋值收集的元素在列表里面，而函数参数的值收集的元素在元组里面。"
   ]
  },
  {
   "cell_type": "markdown",
   "id": "828267ca",
   "metadata": {},
   "source": [
    "### 同时赋值\n",
    "同时赋相同的值就是给内存里的某块东西取了两个不同的名字："
   ]
  },
  {
   "cell_type": "code",
   "execution_count": 14,
   "id": "7e90ebf8",
   "metadata": {},
   "outputs": [
    {
     "name": "stdout",
     "output_type": "stream",
     "text": [
      "True\n"
     ]
    }
   ],
   "source": [
    "x1=x2=[1,2,3]\n",
    "print(x1 is x2)"
   ]
  },
  {
   "cell_type": "markdown",
   "id": "36664478",
   "metadata": {},
   "source": [
    "is语句用来测试对象的同一性，就是真正是内存里的同一个东西，而不仅仅是值相同而已。==只是确保值相同。\n",
    "\n",
    "为了比较可以看下不是同时赋值的情况："
   ]
  },
  {
   "cell_type": "code",
   "execution_count": 15,
   "id": "6f1c03fe",
   "metadata": {},
   "outputs": [
    {
     "name": "stdout",
     "output_type": "stream",
     "text": [
      "False\n"
     ]
    }
   ],
   "source": [
    "y1=[1,2,3]\n",
    "y2=[1,2,3]\n",
    "print(y1 is y2)"
   ]
  },
  {
   "cell_type": "markdown",
   "id": "260573b1",
   "metadata": {},
   "source": [
    "CPython在实现上对于某些不可变的字面量，比如字符串，建立了一种优化策略，相同的字符串哪怕不是同时赋值，也会都指向同一个东西。了解下即可。"
   ]
  },
  {
   "cell_type": "code",
   "execution_count": 16,
   "id": "f107667e",
   "metadata": {},
   "outputs": [
    {
     "name": "stdout",
     "output_type": "stream",
     "text": [
      "True\n"
     ]
    }
   ],
   "source": [
    "t1 = 'a'\n",
    "t2 = 'a'\n",
    "print(t1 is t2)"
   ]
  },
  {
   "cell_type": "markdown",
   "id": "64c46da0",
   "metadata": {},
   "source": [
    "### 增强赋值\n",
    "\n",
    "`x=x+y` 可以写作 `x += y` 。类似的还有：\n",
    "\n",
    "```text\n",
    "+=    &=    >>=\n",
    "   \n",
    "-=    |=    <<=\n",
    "   \n",
    "*=   ^=   **=\n",
    "   \n",
    "/=    %=    //=\n",
    "```\n"
   ]
  }
 ],
 "metadata": {
  "kernelspec": {
   "display_name": "Python 3",
   "language": "python",
   "name": "python3"
  },
  "language_info": {
   "codemirror_mode": {
    "name": "ipython",
    "version": 3
   },
   "file_extension": ".py",
   "mimetype": "text/x-python",
   "name": "python",
   "nbconvert_exporter": "python",
   "pygments_lexer": "ipython3",
   "version": "3.12.10"
  }
 },
 "nbformat": 4,
 "nbformat_minor": 5
}
