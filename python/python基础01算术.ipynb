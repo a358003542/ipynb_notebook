{
 "cells": [
  {
   "cell_type": "markdown",
   "id": "db34be27",
   "metadata": {},
   "source": [
    "### 算术相关基础\n",
    "\n",
    "- 数值内置类型： int, float.\n",
    "- 基本算术运算支持： `+ - * / // %` 其中对于整数之间的运算 `%` 为求模或者说求余数； `//` 为整除或者说求商。\n"
   ]
  },
  {
   "cell_type": "code",
   "execution_count": 11,
   "id": "e962537b",
   "metadata": {},
   "outputs": [
    {
     "data": {
      "text/plain": [
       "2.5"
      ]
     },
     "execution_count": 11,
     "metadata": {},
     "output_type": "execute_result"
    }
   ],
   "source": [
    "5/2"
   ]
  },
  {
   "cell_type": "code",
   "execution_count": 12,
   "id": "28b4af94",
   "metadata": {},
   "outputs": [
    {
     "data": {
      "text/plain": [
       "2"
      ]
     },
     "execution_count": 12,
     "metadata": {},
     "output_type": "execute_result"
    }
   ],
   "source": [
    "5//2"
   ]
  },
  {
   "cell_type": "code",
   "execution_count": 13,
   "id": "a9c1e357",
   "metadata": {},
   "outputs": [
    {
     "data": {
      "text/plain": [
       "1"
      ]
     },
     "execution_count": 13,
     "metadata": {},
     "output_type": "execute_result"
    }
   ],
   "source": [
    "5%2"
   ]
  },
  {
   "cell_type": "markdown",
   "id": "ca84797e",
   "metadata": {},
   "source": [
    "### 幂方\n",
    "$x^y$，x的y次方，python中是： `x**y` ，此外math模块提供的pow函数也是类似的： `pow(x,y)`。"
   ]
  },
  {
   "cell_type": "code",
   "execution_count": 9,
   "id": "ad2ae247",
   "metadata": {},
   "outputs": [
    {
     "data": {
      "text/plain": [
       "8"
      ]
     },
     "execution_count": 9,
     "metadata": {},
     "output_type": "execute_result"
    }
   ],
   "source": [
    "2 ** 3"
   ]
  },
  {
   "cell_type": "code",
   "execution_count": 10,
   "id": "ffb3aee5",
   "metadata": {},
   "outputs": [
    {
     "data": {
      "text/plain": [
       "8.0"
      ]
     },
     "execution_count": 10,
     "metadata": {},
     "output_type": "execute_result"
    }
   ],
   "source": [
    "from math import pow\n",
    "pow(2, 3)"
   ]
  },
  {
   "cell_type": "markdown",
   "id": "e9b0c2c3",
   "metadata": {},
   "source": [
    "### 数值比较\n",
    "数值比较除了常见的 >，<，==之外，还有 >=，<=，!= （大于等于，小于等于，不等于）。此外python还支持连续比较，就是数学格式 $a<x<b$ ，x在区间 $(a,b)$ 的判断。在python中可以直接写成如下形式：`a<x<b`。其等于 `x>a and x < b` 。"
   ]
  },
  {
   "cell_type": "code",
   "execution_count": 14,
   "id": "dae09b88",
   "metadata": {},
   "outputs": [
    {
     "data": {
      "text/plain": [
       "True"
      ]
     },
     "execution_count": 14,
     "metadata": {},
     "output_type": "execute_result"
    }
   ],
   "source": [
    "1<2<3"
   ]
  },
  {
   "cell_type": "code",
   "execution_count": 15,
   "id": "056e4e57",
   "metadata": {},
   "outputs": [
    {
     "data": {
      "text/plain": [
       "True"
      ]
     },
     "execution_count": 15,
     "metadata": {},
     "output_type": "execute_result"
    }
   ],
   "source": [
    "2>1 and 2 <3"
   ]
  },
  {
   "cell_type": "markdown",
   "id": "e4321431",
   "metadata": {},
   "source": [
    "### 整数的进制转换深究\n",
    "关于整数的进制转换，总要记住： **整数在计算机中是以二进制形式存储的**。\n",
    "\n",
    "所谓的该整数的进制转换，只是说要求这个二进制数值以其他不同的进位制显示出来，一般存储了一个数值，要求输出，默认是以十进制的形式显示出来的。\n",
    "\n",
    "\n",
    "|进制|数值输入|数值内转换|数值转字符串| 字符串转数值 |\n",
    "|--- | ----- | --------|-----------|-------------|\n",
    "| 二进制| 0b1100|bin(number)| f'{number:b}'| int('1100', base=2)|\n",
    "|八进制| 0o14| oct(number)| f'{number:o}'| int('14', base=8)|\n",
    "|十进制| 直接输入| 直接输出| f'{number:d}'| int('12')|\n",
    "| 十六进制| 0xc| hex(number)| f'{number:x}'| int('c', base=16)|\n",
    "\n",
    "\n",
    "\n"
   ]
  },
  {
   "cell_type": "markdown",
   "id": "68907f1e",
   "metadata": {},
   "source": [
    "\n",
    "### 浮点数的四舍五入深究\n",
    "小数之于有理数是一种近似数，如果计算机里面的数字是十进制形式存储的，那么对于小数0.3按照道理来说不会再增加新的近似运算了。但 **数字在计算机中是以二进制形式存储的**，也就是说对于小数0.3，计算机以有限位数的二进制小数形式来表示，也只能得到某种近似数，一个很接近于0.3的数值。这个问题重要吗？这个问题其实并不重要，因为小数本身就是一种近似运算，到底是基于十进制小数的近似计算还是基于二进制小数的近似计算，对于大部分使用场景来说不用在意这些细节。\n",
    "\n",
    "但当我们想要讨论小数的四舍五入的时候，很多细节问题就出来了。\n",
    "\n",
    "这也就是上面round函数对于1.5或者2.5等中间值没有采用一致策略的原因，因为round函数如上所示设计的目的不是用来实现数学上的四舍五入的，而是用来判断计算机世界里面浮点数是否近似相等的。\n",
    "\n",
    "也正是这个根源就一般数值类型来说实际上是实现不了我们预想的那种四舍五入操作的函数的，最多只能实现一种近似的版本。\n",
    "round函数\n",
    "\n",
    "    >>> round(3.1415926)\n",
    "    3\n",
    "    >>> round(3.1415926,0)\n",
    "    3.0\n",
    "    >>> round(3.1415926,1)\n",
    "    3.1\n",
    "    >>> round(3.1415926,2)\n",
    "    3.14\n",
    "    >>> round(3.1415926,4)\n",
    "    3.1416\n",
    "\n",
    "第二个参数接受0或者负数多少有点没意义了，一般使用还是取1或大于1的数吧，意思就是保留几位小数。\n",
    "\n",
    "round函数初看起来似乎是实现了数学上的四舍五入取整，但实际上并不确切。比如：\n",
    "\n",
    "```\n",
    ">>> round(0.5)\n",
    "0\n",
    ">>> round(1.5)\n",
    "2\n",
    ">>> round(2.5)\n",
    "2\n",
    ">>> round(3.5)\n",
    "4\n",
    ">>> round(4.5)\n",
    "4\n",
    ">>> round(5.5)\n",
    "6\n",
    ">>> round(6.5)\n",
    "6\n",
    "```\n",
    "\n",
    "round函数返回的是距离该浮点数最近的那个整数，但计算机里面并没有那种所谓的确切的小数，请看下面这个例子：\n",
    "\n",
    "```\n",
    ">>> 0.1+0.1+0.1 == 0.3\n",
    "False\n",
    ">>> round(0.1+0.1+0.1,20) == round(0.3,20)\n",
    "False\n",
    ">>> round(0.1+0.1+0.1,15) == round(0.3,15)\n",
    "True\n",
    "```\n",
    "\n",
    "\n",
    "\n",
    "具体取整上的round策略有很多种，请参见 [这篇文章](https://realpython.com/python-rounding/)。 比如一种近似的四舍五入函数：\n",
    "\n",
    "```\n",
    "def round_half_up(n, decimals=0):\n",
    "    multiplier = 10 ** decimals\n",
    "    return math.floor(n*multiplier + 0.5) / multiplier\n",
    "```\n",
    "\n",
    "但正如前面谈论了，如果你想要实现的那个精确的四舍五入，那么上面这个函数也是有错误的。最好还是采用python的decimal来表达精确的小数。\n",
    "\n",
    "```\n",
    ">>> round_half_up(2.5)\n",
    "3.0\n",
    ">>> round(2.5)\n",
    "2\n",
    "```\n",
    "\n",
    "round_half_up这个函数之所以能够部分有效，是因为2.5精度以下的偏差通过0.5的残余精度下的数值得到了修补。但如果：\n",
    "\n",
    "```\n",
    ">>> round_half_up(2.4999999999999999)\n",
    "3.0\n",
    ">>> round_half_up(2.499999999999999)\n",
    "2.0\n",
    "```\n",
    "\n",
    "所以round_half_up只是说在浮点数精度下能够实现大致的四舍五入效果了。"
   ]
  },
  {
   "cell_type": "markdown",
   "id": "8104eee0",
   "metadata": {},
   "source": [
    "### min，max和sum函数\n",
    "min，max，sum函数都可以接受一个元组或者列表作为参数，然后返回这个元组或者列表其中的最小值，最大值或者总和。"
   ]
  },
  {
   "cell_type": "code",
   "execution_count": 1,
   "id": "9155b219",
   "metadata": {},
   "outputs": [
    {
     "data": {
      "text/plain": [
       "1"
      ]
     },
     "execution_count": 1,
     "metadata": {},
     "output_type": "execute_result"
    }
   ],
   "source": [
    "min((1,6,8,3,4))"
   ]
  },
  {
   "cell_type": "code",
   "execution_count": 2,
   "id": "aa53f49f",
   "metadata": {},
   "outputs": [
    {
     "data": {
      "text/plain": [
       "8"
      ]
     },
     "execution_count": 2,
     "metadata": {},
     "output_type": "execute_result"
    }
   ],
   "source": [
    "max([1,6,8,3,4])"
   ]
  },
  {
   "cell_type": "code",
   "execution_count": 3,
   "id": "e50e263e",
   "metadata": {},
   "outputs": [
    {
     "data": {
      "text/plain": [
       "22"
      ]
     },
     "execution_count": 3,
     "metadata": {},
     "output_type": "execute_result"
    }
   ],
   "source": [
    "sum([1,6,8,3,4])"
   ]
  },
  {
   "cell_type": "markdown",
   "id": "3fca91ca",
   "metadata": {},
   "source": [
    "此外min和max还支持多个不定参数的收集输入风格："
   ]
  },
  {
   "cell_type": "code",
   "execution_count": 4,
   "id": "6ee36859",
   "metadata": {},
   "outputs": [
    {
     "data": {
      "text/plain": [
       "1"
      ]
     },
     "execution_count": 4,
     "metadata": {},
     "output_type": "execute_result"
    }
   ],
   "source": [
    " min(1,6,8,3,4)"
   ]
  },
  {
   "cell_type": "markdown",
   "id": "2b53f2b1",
   "metadata": {},
   "source": [
    "### 二进制数字的位操作\n",
    "\n",
    "- 位左移操作 `<<` ，位左移一位数值有乘以2的效果\n",
    "- 位右移操作 `>>` ，位右移一位数值有除以2的效果，具体对应的是//整数除法\n",
    "- 位与操作 `&` \n",
    "- 位或操作 `|` \n",
    "- 位异或操作 `^` \n",
    "- 位取反 `~`"
   ]
  },
  {
   "cell_type": "code",
   "execution_count": 43,
   "id": "eecdc2e4",
   "metadata": {},
   "outputs": [
    {
     "data": {
      "text/plain": [
       "'-0b101'"
      ]
     },
     "execution_count": 43,
     "metadata": {},
     "output_type": "execute_result"
    }
   ],
   "source": [
    "bin(~(0b00100))"
   ]
  },
  {
   "cell_type": "code",
   "execution_count": 5,
   "id": "41c3913a",
   "metadata": {},
   "outputs": [
    {
     "data": {
      "text/plain": [
       "'0b100'"
      ]
     },
     "execution_count": 5,
     "metadata": {},
     "output_type": "execute_result"
    }
   ],
   "source": [
    "bin(0b1 << 2)"
   ]
  },
  {
   "cell_type": "code",
   "execution_count": 6,
   "id": "f31ac67a",
   "metadata": {},
   "outputs": [
    {
     "data": {
      "text/plain": [
       "'0b11'"
      ]
     },
     "execution_count": 6,
     "metadata": {},
     "output_type": "execute_result"
    }
   ],
   "source": [
    "bin(0b1 | 0b010)"
   ]
  },
  {
   "cell_type": "code",
   "execution_count": 7,
   "id": "59d35113",
   "metadata": {},
   "outputs": [
    {
     "data": {
      "text/plain": [
       "'0b1'"
      ]
     },
     "execution_count": 7,
     "metadata": {},
     "output_type": "execute_result"
    }
   ],
   "source": [
    "bin(0b1 & 0b1)"
   ]
  },
  {
   "cell_type": "code",
   "execution_count": 8,
   "id": "11b538e9",
   "metadata": {},
   "outputs": [
    {
     "data": {
      "text/plain": [
       "'0b100'"
      ]
     },
     "execution_count": 8,
     "metadata": {},
     "output_type": "execute_result"
    }
   ],
   "source": [
    "bin(0b1 ^ 0b101)"
   ]
  },
  {
   "cell_type": "markdown",
   "id": "0f428951",
   "metadata": {},
   "source": [
    "二进制数字位操作的一个应用就是将一连串的二进制数字作为位标识flag存在："
   ]
  },
  {
   "cell_type": "code",
   "execution_count": 6,
   "id": "9c199925",
   "metadata": {},
   "outputs": [
    {
     "data": {
      "text/plain": [
       "'0b100100'"
      ]
     },
     "execution_count": 6,
     "metadata": {},
     "output_type": "execute_result"
    }
   ],
   "source": [
    "flag=0b00100100\n",
    "bin(flag)"
   ]
  },
  {
   "cell_type": "markdown",
   "id": "0612cee0",
   "metadata": {},
   "source": [
    "构建目标位mask值：\n",
    "- 第一位 `1<<0` \n",
    "- 第二位 `1<<1`\n",
    "- ..."
   ]
  },
  {
   "cell_type": "code",
   "execution_count": 7,
   "id": "0407d738",
   "metadata": {},
   "outputs": [
    {
     "data": {
      "text/plain": [
       "'0b100'"
      ]
     },
     "execution_count": 7,
     "metadata": {},
     "output_type": "execute_result"
    }
   ],
   "source": [
    "mask_3=1<<2\n",
    "bin(mask_3)"
   ]
  },
  {
   "cell_type": "markdown",
   "id": "a40b49ee",
   "metadata": {},
   "source": [
    "目标位flag值切换 `number ^ mask值`"
   ]
  },
  {
   "cell_type": "code",
   "execution_count": 8,
   "id": "2628851f",
   "metadata": {},
   "outputs": [
    {
     "data": {
      "text/plain": [
       "'0b100000'"
      ]
     },
     "execution_count": 8,
     "metadata": {},
     "output_type": "execute_result"
    }
   ],
   "source": [
    "bin(flag ^ mask_3)"
   ]
  },
  {
   "cell_type": "markdown",
   "id": "31114b8f",
   "metadata": {},
   "source": [
    "目标位flag设为0 `number & ~mask值`"
   ]
  },
  {
   "cell_type": "code",
   "execution_count": 9,
   "id": "55795ccc",
   "metadata": {},
   "outputs": [
    {
     "data": {
      "text/plain": [
       "'0b100000'"
      ]
     },
     "execution_count": 9,
     "metadata": {},
     "output_type": "execute_result"
    }
   ],
   "source": [
    "bin(flag & ~mask_3)"
   ]
  },
  {
   "cell_type": "markdown",
   "id": "beedd0b4",
   "metadata": {},
   "source": [
    "目标位flag设为1 `number | mask值`"
   ]
  },
  {
   "cell_type": "code",
   "execution_count": 10,
   "id": "212e91c3",
   "metadata": {},
   "outputs": [
    {
     "data": {
      "text/plain": [
       "'0b100100'"
      ]
     },
     "execution_count": 10,
     "metadata": {},
     "output_type": "execute_result"
    }
   ],
   "source": [
    "bin(flag | mask_3)"
   ]
  },
  {
   "cell_type": "markdown",
   "id": "e1c79666",
   "metadata": {},
   "source": [
    "### math模块\n",
    "math模块里面提供了常见的一些数学常数，比如 `pi` 和 `e` 来，以及一些常见的数学函数支持。更多内容请参见[官方文档](http://docs.python.org/3/library/math.html)。\n",
    "\n",
    "sqrt\n",
    "\n",
    ":   开平方根函数，sqrt(x)。\n",
    "\n",
    "sin\n",
    "\n",
    ":   正弦函数，类似的还有cos，tan等，sin(x)。\n",
    "\n",
    "degrees\n",
    "\n",
    ":   将弧度转化为角度，三角函数默认输入的是弧度值。\n",
    "\n",
    "radians\n",
    "\n",
    ":   将角度转化位弧度，radians(30)。\n",
    "\n",
    "log\n",
    "\n",
    ":   开对数，log(x,y)，即$\\log_y x$，y默认是e。\n",
    "\n",
    "exp\n",
    "\n",
    ":   指数函数，exp(x)。\n",
    "\n",
    "pow\n",
    "\n",
    ":   扩展了内置方法，现在支持float了。pow(x,y)\n"
   ]
  },
  {
   "cell_type": "code",
   "execution_count": 6,
   "id": "e109fa8b",
   "metadata": {},
   "outputs": [
    {
     "data": {
      "text/plain": [
       "3.141592653589793"
      ]
     },
     "execution_count": 6,
     "metadata": {},
     "output_type": "execute_result"
    }
   ],
   "source": [
    "from math import pi\n",
    "pi"
   ]
  },
  {
   "cell_type": "code",
   "execution_count": 7,
   "id": "22b000f2",
   "metadata": {},
   "outputs": [
    {
     "data": {
      "text/plain": [
       "9.219544457292887"
      ]
     },
     "execution_count": 7,
     "metadata": {},
     "output_type": "execute_result"
    }
   ],
   "source": [
    "from math import sqrt\n",
    "sqrt(85)"
   ]
  },
  {
   "cell_type": "code",
   "execution_count": 8,
   "id": "ee88031a",
   "metadata": {},
   "outputs": [
    {
     "data": {
      "text/plain": [
       "0.5"
      ]
     },
     "execution_count": 8,
     "metadata": {},
     "output_type": "execute_result"
    }
   ],
   "source": [
    "from math import sin, radians \n",
    "round(sin(radians(30)),1) #sin(30°)"
   ]
  },
  {
   "cell_type": "markdown",
   "id": "f8fab3a7",
   "metadata": {},
   "source": [
    "### random模块\n",
    "\n",
    "random模块提供了一些函数来解决随机数问题。更多内容请参见[官方文档](http://docs.python.org/3/library/random.html)。\n",
    "\n",
    "random\n",
    "\n",
    ":   random函数产生0到1之间的随机实数（包括0）。\n",
    "​    `random()-> [0.0, 1.0) `。\n",
    "\n",
    "uniform\n",
    "\n",
    ":   uniform函数产生从a到b之间的随机实数（a，b的值指定，包括a。）。\n",
    "​    `uniform(a,b)-> [a, b)` 。\n",
    "\n",
    "randint\n",
    "\n",
    ":   randint函数产生从a到b之间的随机整数，包含a和b。\n",
    "​    `randint(a,b)-> [a,b]`\n",
    "\n",
    "choice\n",
    "\n",
    ":   choice随机从一个列表或者字符串中取出一个元素。"
   ]
  },
  {
   "cell_type": "code",
   "execution_count": 1,
   "id": "4fe4c8ca",
   "metadata": {},
   "outputs": [
    {
     "data": {
      "text/plain": [
       "0.5944180330859791"
      ]
     },
     "execution_count": 1,
     "metadata": {},
     "output_type": "execute_result"
    }
   ],
   "source": [
    "from random import random\n",
    "random()"
   ]
  },
  {
   "cell_type": "code",
   "execution_count": 2,
   "id": "0c86cf88",
   "metadata": {},
   "outputs": [
    {
     "data": {
      "text/plain": [
       "1.3352541885446132"
      ]
     },
     "execution_count": 2,
     "metadata": {},
     "output_type": "execute_result"
    }
   ],
   "source": [
    "from random import uniform\n",
    "uniform(1,10)"
   ]
  },
  {
   "cell_type": "code",
   "execution_count": 3,
   "id": "9f88bdd5",
   "metadata": {},
   "outputs": [
    {
     "data": {
      "text/plain": [
       "6"
      ]
     },
     "execution_count": 3,
     "metadata": {},
     "output_type": "execute_result"
    }
   ],
   "source": [
    "from random import randint\n",
    "randint(1,10)"
   ]
  },
  {
   "cell_type": "code",
   "execution_count": 4,
   "id": "ffae554e",
   "metadata": {},
   "outputs": [
    {
     "data": {
      "text/plain": [
       "'h'"
      ]
     },
     "execution_count": 4,
     "metadata": {},
     "output_type": "execute_result"
    }
   ],
   "source": [
    "from random import choice\n",
    "choice('abcdefghij')"
   ]
  },
  {
   "cell_type": "code",
   "execution_count": 5,
   "id": "0f6132d7",
   "metadata": {},
   "outputs": [
    {
     "data": {
      "text/plain": [
       "'2'"
      ]
     },
     "execution_count": 5,
     "metadata": {},
     "output_type": "execute_result"
    }
   ],
   "source": [
    "choice(['1','2','3'])"
   ]
  }
 ],
 "metadata": {
  "kernelspec": {
   "display_name": "Python 3",
   "language": "python",
   "name": "python3"
  },
  "language_info": {
   "codemirror_mode": {
    "name": "ipython",
    "version": 3
   },
   "file_extension": ".py",
   "mimetype": "text/x-python",
   "name": "python",
   "nbconvert_exporter": "python",
   "pygments_lexer": "ipython3",
   "version": "3.12.10"
  }
 },
 "nbformat": 4,
 "nbformat_minor": 5
}
