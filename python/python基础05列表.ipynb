{
 "cells": [
  {
   "cell_type": "markdown",
   "id": "0adcd694",
   "metadata": {},
   "source": [
    "### 什么是列表\n",
    "这里不会详细介绍列表这个数据结构的内部细节，如果读者对列表这个数据结构不太熟悉的话，请参阅其他资料了解之。\n",
    "\n",
    "列表，有点像一根链条，每个链条节点上挂载着某个数据，同时又绑定下一个链条节点，如此伸展下去。\n",
    "\n",
    "python的列表是可变对象，意思是存在一种可能性，那就是原地修改某个列表的值，而该列表对象还是原来的那个列表对象。即实际发生的改动仅仅是列表的那根链条上又加上了一些数据。\n",
    "\n",
    "这样列表的方法就分为两大类：一类是原地修改的；一类是非原地修改的。原地修改的方法会更加的高效，但是函数式编程风格会推荐非破坏性的原子式的，因此也就造成了这样两种方法并存的局面，在要求性能的情况下，推荐采用原地修改式的；没有性能要求的情况下，会推荐非原地修改式的。\n",
    "\n",
    "**注意：列表原地修改式的方法只有极少数情况返回值有特殊含义，大部分时候都没有含义，就是默认返回的None。**"
   ]
  },
  {
   "cell_type": "markdown",
   "id": "4fcb9997",
   "metadata": {},
   "source": [
    "### 列表相加\n",
    "\n",
    "- 原地修改的 `a += [1,2,3]` ，会调用列表对象的 `__iadd__` 方法，从而实现原地修改逻辑。\n",
    "- 非原地修改的 `a = a + [1,2,3]`，会调用列表对象的 `__add__` 方法，采用非原地修改逻辑，重新创建一个列表对象，然后再执行赋值逻辑。"
   ]
  },
  {
   "cell_type": "code",
   "execution_count": null,
   "id": "2d69db20",
   "metadata": {},
   "outputs": [
    {
     "name": "stdout",
     "output_type": "stream",
     "text": [
      "[1, 2, 3, 4, 5, 6]\n"
     ]
    }
   ],
   "source": [
    "lst_1 = [1, 2, 3]\n",
    "lst_1 = lst_1 + [4, 5, 6]\n",
    "print(lst_1)"
   ]
  },
  {
   "cell_type": "markdown",
   "id": "4aa07def",
   "metadata": {},
   "source": [
    "### 列表的方法\n",
    "\n",
    "列表的方法有：\n",
    "\n",
    "- insert 列表某处插入某个元素，原地修改式。\n",
    "- append 列表末尾添加某个元素，原地修改式。\n",
    "- pop    移除列表某个位置的元素，默认最后一个元素，原地修改式。\n",
    "- remove 移除第一个相同的元素，原地修改式。\n",
    "- count  统计某个元素出现的次数。\n",
    "- index  返回某个元素第一次出现时的索引值\n",
    "\n",
    "更多内容请参阅 [官方文档的这里](https://docs.python.org/zh-cn/3.13/tutorial/datastructures.html) ."
   ]
  },
  {
   "cell_type": "code",
   "execution_count": 4,
   "id": "ab25df05",
   "metadata": {},
   "outputs": [
    {
     "name": "stdout",
     "output_type": "stream",
     "text": [
      "[4, 1, 2, 3]\n"
     ]
    }
   ],
   "source": [
    "lst_2 = [1, 2, 3]\n",
    "lst_2.insert(0, 4)\n",
    "print(lst_2)"
   ]
  },
  {
   "cell_type": "code",
   "execution_count": 6,
   "id": "84a2d019",
   "metadata": {},
   "outputs": [
    {
     "name": "stdout",
     "output_type": "stream",
     "text": [
      "[1, 2, 3, 4]\n"
     ]
    }
   ],
   "source": [
    "lst_3 = [1,2,3]\n",
    "lst_3.append(4)\n",
    "print(lst_3)"
   ]
  },
  {
   "cell_type": "code",
   "execution_count": 7,
   "id": "480c5dac",
   "metadata": {},
   "outputs": [
    {
     "name": "stdout",
     "output_type": "stream",
     "text": [
      "c\n",
      "['a', 'b']\n"
     ]
    }
   ],
   "source": [
    "lst_4 = ['a', 'b', 'c']\n",
    "x = lst_4.pop()\n",
    "print(x)\n",
    "print(lst_4)"
   ]
  },
  {
   "cell_type": "code",
   "execution_count": 9,
   "id": "5af80ded",
   "metadata": {},
   "outputs": [
    {
     "name": "stdout",
     "output_type": "stream",
     "text": [
      "['b', 'a', 'c']\n"
     ]
    }
   ],
   "source": [
    "lst_5 = ['a', 'b', 'a', 'c']\n",
    "lst_5.remove('a')\n",
    "print(lst_5)"
   ]
  },
  {
   "cell_type": "markdown",
   "id": "108f263a",
   "metadata": {},
   "source": [
    "### 列表排序\n",
    "\n",
    "- sort方法 执行列表排序，原地修改式的。\n",
    "- sorted函数 执行列表排序，非原地修改式的。\n",
    "\n",
    "这两者在使用上很类似，下面一并讲解之。 \n",
    "\n",
    "- `key=function` 设置比较函数\n",
    "- `reverse=True` 设置为反序\n",
    "\n",
    "key设置的比较函数（可以是lambda匿名函数）接受一个参数，这个参数是sort方法在迭代列表过程中当前的那个元素，比较函数对给定的元素进行一些处理，然后返回某个值，这个值方便python内部直接判断出大小。\n",
    "\n",
    "比如下面这个例子，如果列表里面有数字和字符串，是不能直接排序的，会报错的："
   ]
  },
  {
   "cell_type": "code",
   "execution_count": 1,
   "id": "78ed7247",
   "metadata": {},
   "outputs": [
    {
     "data": {
      "text/plain": [
       "[1, '2', '3', 'a']"
      ]
     },
     "execution_count": 1,
     "metadata": {},
     "output_type": "execute_result"
    }
   ],
   "source": [
    "def to_str(item):\n",
    "    return str(item)\n",
    "\n",
    "sorted([1, '2', '3', 'a'],key=to_str)"
   ]
  },
  {
   "cell_type": "markdown",
   "id": "a9e08020",
   "metadata": {},
   "source": [
    "### 列表解析\n",
    "\n",
    "我们来看下面这个例子：\n",
    "\n",
    "    def square(n):\n",
    "        return n*n\n",
    "        \n",
    "    print(list(map(square,[1,2,3,4,5])))\n",
    "    print([square(x) for x in [1,2,3,4,5]])\n",
    "    \n",
    "    [1, 4, 9, 16, 25]\n",
    "    [1, 4, 9, 16, 25]\n",
    "\n",
    "map函数将某个函数应用于某个列表的元素中并生成一个map对象（可迭代对象），需要外面加上list函数才能生成列表形式。第二种方式更有python风格，是推荐使用的列表解析方法。\n",
    "\n",
    "在python中推荐多使用迭代操作和如上的列表解析风格，因为python中的迭代操作是直接用c语言实现的。\n",
    "\n",
    "#### 列表解析加上过滤条件\n",
    "\n",
    "for语句后面可以跟一个if子句表示过滤条件，看下面的例子来理解吧：\n",
    "\n",
    "    >>> [s*2 for s in ['hello','abc','final','help'] if s[0] == 'h']\n",
    "    ['hellohello', 'helphelp']\n",
    "\n",
    "这个例子的意思是列表解析，找到的元素进行乘以2的操作，其中过滤条件为字符是h字母开头的，也就是后面if表达式不为真的元素都被过滤掉了。\n",
    "\n",
    "#### 完整的列表解析结构\n",
    "\n",
    "下面给出一个完整的列表解析结构，最常见的情况一般就一两个for语句吧，这里if外加个括号是可选项的意思。\n",
    "\n",
    "    [ expression for var1 in iterable1 [if condition1 ]\n",
    "                        for var2 in iterable2 [if condition2 ]\n",
    "                        ........\n",
    "                                ]\n",
    "\n",
    "这里的逻辑是从左到右第一个for语句就是最先执行的for语句，然后是第二个for语句跟着执行。\n",
    "\n",
    "这里的iterable1是指某个可迭代对象，也就是说那些能够返回可迭代对象的函数比如map，filter，zip，range等函数都可以放进去。不过我们要克制自己在这里别写出太过于晦涩的程序了。还有for循环语句也别嵌套太多了，这样极容易出错的。\n",
    "\n",
    "下面这个程序大家看看：\n",
    "\n",
    "    >>> [x+str(y) for x in ['a','b','c'] for y in [1,2,3,4,5,6] if y & 1]\n",
    "    ['a1', 'a3', 'a5', 'b1', 'b3', 'b5', 'c1', 'c3', 'c5']\n",
    "    >>> [x+str(y) for x in ['a','b','c'] for y in [1,2,3,4,5,6] if not  y & 1]\n",
    "    ['a2', 'a4', 'a6', 'b2', 'b4', 'b6', 'c2', 'c4', 'c6']\n",
    "\n",
    "#### 列表解析创建二维数据\n",
    "```\n",
    "board = [[0 for i in range(8)] for j in range(8)]\n",
    "```\n",
    "\n",
    "#### 列表解析的好处\n",
    "\n",
    "在熟悉列表解析的语句结构之后，一两个for语句不太复杂的情况下，还是很简单明了的。同时语法也更加精炼，同时运行速度较for循环要至少快上一倍。最后python的迭代思想深入骨髓，以后python的优化工作很多都围绕迭代展开，也就是多用列表解析会让你的代码以后可能运行的更快。\n",
    "\n",
    "有这么多的好处，加上这么cool的pythonic风格，推荐大家多用列表解析风格解决问题。\n",
    "\n",
    "\n",
    "#### 元组的生成\n",
    "\n",
    "这个时候需要明确加个括号表示这是一个元组对象。\n",
    "\n",
    "    >>> [(x,x**2) for x in range(5)]\n",
    "    [(0, 0), (1, 1), (2, 4), (3, 9), (4, 16)]\n",
    "\n",
    "#### 列表元素替换\n",
    "\n",
    "推荐用列表解析方法来实现列表元素的替换功能。\n",
    "\n",
    "    def replace(x,a,b):\n",
    "        if x == a:\n",
    "            return b\n",
    "        else:\n",
    "            return x\n",
    "    \n",
    "    lst=[1,5,4,1,6]\n",
    "    \n",
    "    >>> [replace(i,1,'replaced') for i in lst]\n",
    "    ['replaced', 5, 4, 'replaced', 6]\n"
   ]
  }
 ],
 "metadata": {
  "kernelspec": {
   "display_name": "Python 3",
   "language": "python",
   "name": "python3"
  },
  "language_info": {
   "codemirror_mode": {
    "name": "ipython",
    "version": 3
   },
   "file_extension": ".py",
   "mimetype": "text/x-python",
   "name": "python",
   "nbconvert_exporter": "python",
   "pygments_lexer": "ipython3",
   "version": "3.12.10"
  }
 },
 "nbformat": 4,
 "nbformat_minor": 5
}
