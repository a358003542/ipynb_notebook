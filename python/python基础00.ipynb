{
 "cells": [
  {
   "cell_type": "markdown",
   "id": "f6d0dbc0",
   "metadata": {},
   "source": [
    "### 安装和配置\n",
    "\n",
    "python的安装和配置在linux没什么好说了。\n",
    "\n",
    "windows推荐将python安装在D盘，可以避免可执行文件的权限问题。否则后面安装模块有时你忘了加上 `--user` 就会报错很是麻烦。\n",
    "\n",
    "windows下的安装现在已经提供选项可以直接设置 `PATH` 变量了，建议勾选上。如果忘了勾选，那么如下设置下：\n",
    "\n",
    "![img](./figures/python-env-windows.png \"python在windows下PATH环境变量的配置\")\n",
    "\n",
    "\n"
   ]
  },
  {
   "cell_type": "markdown",
   "id": "49cac205",
   "metadata": {},
   "source": [
    "### 进入python的REPL环境\n",
    "\n",
    "在终端中输入python即进入python语言的REPL环境，你可以运行：\n",
    "\n",
    "    python  --version\n",
    "\n",
    "来查看默认的python版本号。\n",
    "\n",
    "\n"
   ]
  },
  {
   "cell_type": "markdown",
   "id": "b9b96d48",
   "metadata": {},
   "source": [
    "### python命令行用法\n",
    "\n",
    "命令行的一般格式就是：\n",
    "\n",
    "```text\n",
    "python3  [可选项]  test.py  [可选参数1 可选参数2]\n",
    "```\n",
    "\n",
    "运行 `python3  --help` 即可以查看python命令的一些可选项。比如加入**-i**选项之后，python执行完脚本之后会进入REPL环境继续等待下一个命令，这个在最后结果一闪而过的时候有用。\n",
    "\n",
    "#### python执行脚本参数的传递\n",
    "\n",
    "上面的命令行接受多个参数都没有问题的，不会报错，哪怕你在py文件并没有用到他们。在py文件中要使用他们，首先导入sys模块，然后 `sys.argv[0]` 是现在这个py文件在系统中的文件名，接下来的 `sys.argv[1]` 就是之前命令行接受的第一个参数，后面的就依次类推了。\n"
   ]
  },
  {
   "cell_type": "markdown",
   "id": "e1622f28",
   "metadata": {},
   "source": [
    "\n",
    "### 代码注释\n",
    "\n",
    "python语言的注释符号是用 `#` 符号来注释代码。\n",
    "\n",
    "多行注释可以利用编辑器快速每行前面加上`#` 符号。\n",
    "\n"
   ]
  },
  {
   "cell_type": "markdown",
   "id": "1b2f989b",
   "metadata": {},
   "source": [
    "\n",
    "### 代码多行表示一行\n",
    "\n",
    "这个技巧防止代码越界所以经常会用到。用反斜线 `\\` 即可。不过更常用的是将表达式用圆括号 `()` 括起来，这样内部可以直接换行并继续。在python中任何表达式都可以包围在圆括号中。\n"
   ]
  },
  {
   "cell_type": "markdown",
   "id": "6ab3a78c",
   "metadata": {},
   "source": [
    "\n",
    "### 一行表示多行\n",
    "\n",
    "python中一般不用分号，但是分号的意义大致和c语言中的意义类似，表示一行结束的意思。其中c语言我们知道是必须使用分号的。\n",
    "\n"
   ]
  },
  {
   "cell_type": "markdown",
   "id": "a3b48b14",
   "metadata": {},
   "source": [
    "### 输入和输出\n",
    "\n",
    "input函数请求用户输入，并将这个值赋值给某个变量。注意赋值之后类型是字符串，但后面你可以用强制类型转换——int函数（变成整数），float函数（变成小数）——将其转成你想要的数据类型。\n",
    "\n",
    "print函数就是编程语言中常见的的屏幕显示输出函数。\n",
    "\n",
    "读者请运行下面的例子：\n",
    "\n",
    "```\n",
    "x=input('请输入一个实数：')\n",
    "string='你输入的这个实数乘以2等于：'+ str(float(x)*2)\n",
    "print(string)\n",
    "```"
   ]
  },
  {
   "cell_type": "markdown",
   "id": "379f9b00",
   "metadata": {},
   "source": [
    "### 你可能不需要虚拟环境\n",
    "只要项目超过两个人以上协作，那么就需要使用python虚拟环境。但也不要想当然认为所有情况下都要使用虚拟环境。如果是个人本地项目，而且这些项目里面的某些模块占用了超过几个G的存储空间，你本地固态硬盘空间也不是那么富裕，这种情况下是不需要虚拟环境的。\n",
    "\n",
    "安装虚拟环境：\n",
    "\n",
    "```\n",
    "python -m venv venv_folder_name\n",
    "```\n",
    "\n",
    "如果你确实需要，更多细节请参看venv的官方文档。\n",
    "\n",
    "\n",
    "\n"
   ]
  }
 ],
 "metadata": {
  "language_info": {
   "name": "python"
  }
 },
 "nbformat": 4,
 "nbformat_minor": 5
}
