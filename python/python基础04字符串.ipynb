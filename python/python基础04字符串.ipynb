{
 "cells": [
  {
   "cell_type": "markdown",
   "id": "0d49c95e",
   "metadata": {},
   "source": [
    "### 字符编码\n",
    "- 字符集： 一些字符组成的集合\n",
    "- 编码：将信息从一种形式转换为另一种形式的过程\n",
    "- 字符编码：针对某一字符集，为其中的字符编码。一般来说指的是将信息从人所见的字符转换为计算机内二进制存储格式的过程。\n",
    "- ASCII码：既确定了字符集也确定了字符编码规范，计算机内二进制存储格式为八位二进制数字，因此只表征了有限的字符集，主要针对英文的使用。\n",
    "- Unicode：通用字符集，旨在罗列人类语言用到的所有字符。Unicode标准还会给它收集到的字符分配一个码位（code point），这个码位实际上就是这个字符的名字，因为有些字符可能从字形上看起来差不多的，最终还是要靠这个码位来区分开来。这个Unicode码也不是该字符真的在计算机中存储的二进制数字。\n",
    "- UTF8： 针对Unicode字符集确立的字符编码。它有很多优点，这里就不细讲了。一个字符的UTF8码就真的是它在计算机中存储的那一串二进制数字。\n"
   ]
  },
  {
   "cell_type": "markdown",
   "id": "f5610b92",
   "metadata": {},
   "source": [
    "- python的字符串就是一个序列里面存储了一连串的Unicode字符\n",
    "- python默认字符编码是UTF8\n",
    "- python可以如下将字符串转成bytes对象——由单个字节构成的不可变序列。bytes对象已经移除了默认字符编码UTF8的假定了，下面的 `\\xe4` 只是在表示单个字节即8位的二进制数字。\n",
    "\n",
    "这块简单了解下即可，日常应用如果没有遇到问题就没问题，如果遇到编码相关问题再去研究，这块有的时候还挺麻烦的。 [更多内容请参看官方文档的这里](https://docs.python.org/zh-cn/3/howto/unicode.html)"
   ]
  },
  {
   "cell_type": "code",
   "execution_count": 13,
   "id": "67af397b",
   "metadata": {},
   "outputs": [
    {
     "data": {
      "text/plain": [
       "b'\\xe4\\xb8\\xad\\xe6\\x96\\x87'"
      ]
     },
     "execution_count": 13,
     "metadata": {},
     "output_type": "execute_result"
    }
   ],
   "source": [
    "s1 = \"中文\"\n",
    "s1.encode(encoding='utf8')"
   ]
  },
  {
   "cell_type": "markdown",
   "id": "a93e104a",
   "metadata": {},
   "source": [
    "### 字符串简介\n",
    "\n",
    "- 用单引号或者双引号包起来就表示一个字符串了。单引号和双引号并没有什么特别的区别，只是如果字符串里面有单引号，那么就使用双引号，这样单引号直接作为字符处理而不需要而外的转义处理。在单引号或者双引号的情况下，你可以使用`\\n`来换行。此外还可以使用三单引号 `'''` 或者三双引号 `\"\"\"` 来包围横跨多行的字符串，其中的换行就会直接保留。\n",
    "- python的字符串是不可变对象，你看到的一切看起来似乎字符串发生了改变的操作都不过是重新创建了一个新的字符串对象。\n",
    "- 字符串相加是字符串拼接操作，乘法是加法的重复，一个字符串乘以一个数字是其和自身拼接了几次。"
   ]
  },
  {
   "cell_type": "code",
   "execution_count": 14,
   "id": "85995240",
   "metadata": {},
   "outputs": [
    {
     "name": "stdout",
     "output_type": "stream",
     "text": [
      "abcdef\n",
      "abcabcabc\n"
     ]
    }
   ],
   "source": [
    "print('abc'+'def')\n",
    "print('abc' * 3)"
   ]
  },
  {
   "cell_type": "markdown",
   "id": "dfe2c94a",
   "metadata": {},
   "source": [
    "### 字符转义\n",
    "原本字符转义只是针对ASCII编码里面的一些特殊字符的输入问题。比如 `\\n` 表示换行，`\\t` 表示制表符："
   ]
  },
  {
   "cell_type": "code",
   "execution_count": 15,
   "id": "6db5e2a2",
   "metadata": {},
   "outputs": [
    {
     "name": "stdout",
     "output_type": "stream",
     "text": [
      "\tabc \n",
      "test\n"
     ]
    }
   ],
   "source": [
    "print('\\tabc \\ntest')"
   ]
  },
  {
   "cell_type": "markdown",
   "id": "8663d166",
   "metadata": {},
   "source": [
    "python提供raw string字符串输入，这样字符串里面的 `\\` 不会解释为转义字符，即具有特殊含义的字符。"
   ]
  },
  {
   "cell_type": "code",
   "execution_count": 16,
   "id": "ae05d12e",
   "metadata": {},
   "outputs": [
    {
     "name": "stdout",
     "output_type": "stream",
     "text": [
      "\\tabc \\ntest\n"
     ]
    }
   ],
   "source": [
    "print(r'\\tabc \\ntest')"
   ]
  },
  {
   "cell_type": "markdown",
   "id": "8185ec05",
   "metadata": {},
   "source": [
    "字符转义在某些情况下会很让人困扰，尤其是你要正则匹配某些路径或者latex命令，其中 `\\` 符号很是常见。比如你要正则匹配latex命令 `\\chapter` ，通过文件读取到python的字符串里面，它成了 `\\\\chapter` ，正则表达式即使使用raw string，也还是需要再加上一个反斜杠：`pattern=r'\\\\chapter'` 。"
   ]
  },
  {
   "cell_type": "markdown",
   "id": "f910e062",
   "metadata": {},
   "source": [
    "### f-string\n",
    "python3.6新加入进来的特性，短短时间马上流行起来了，因为真的非常好用：\n",
    "\n",
    "\n",
    "```\n",
    "f\"hello. {name}\"\n",
    "```\n",
    "\n",
    "等价于\n",
    "\n",
    "```\n",
    "\"hello. {name}\".format(name=name)\n",
    "```\n",
    "\n",
    "推荐使用上直接使用f-string，学习上还是要多查看字符串format方法的官方文档。"
   ]
  },
  {
   "cell_type": "markdown",
   "id": "50565b06",
   "metadata": {},
   "source": [
    "### format方法\n",
    "更详细的内容请参看 [官方文档](https://docs.python.org/zh-cn/3/library/string.html) 。"
   ]
  },
  {
   "cell_type": "markdown",
   "id": "44a455cb",
   "metadata": {},
   "source": [
    "#### 等宽数字\n",
    "\n",
    "```\n",
    "{:0>2d} \n",
    "```\n",
    "\n",
    "目标数字宽度为两位，左边填充0 ， `>` 表示左边填充， `0>` 表示左边填充0，此外还有 `<` 表示右边填充。\n"
   ]
  },
  {
   "cell_type": "code",
   "execution_count": 5,
   "id": "0a5b177c",
   "metadata": {},
   "outputs": [
    {
     "data": {
      "text/plain": [
       "'01'"
      ]
     },
     "execution_count": 5,
     "metadata": {},
     "output_type": "execute_result"
    }
   ],
   "source": [
    "\"{:0>2d}\".format(1)"
   ]
  },
  {
   "cell_type": "markdown",
   "id": "6f0a3f8b",
   "metadata": {},
   "source": [
    "#### 花括号的问题\n",
    "\n",
    "花括号因为是特殊字符，要显示花括号，需要如下输入两次："
   ]
  },
  {
   "cell_type": "code",
   "execution_count": 6,
   "id": "aee12f8b",
   "metadata": {},
   "outputs": [
    {
     "name": "stdout",
     "output_type": "stream",
     "text": [
      "{----}\n"
     ]
    }
   ],
   "source": [
    "print(f'{{----}}')"
   ]
  },
  {
   "cell_type": "markdown",
   "id": "eb67bfd4",
   "metadata": {},
   "source": [
    "### 字符串的方法\n",
    "字符串的方法有：\n",
    "\n",
    "- startswith\n",
    "- endswith\n",
    "- find\n",
    "- replace\n",
    "- upper\n",
    "- isdigit\n",
    "- isalpha\n",
    "- isalnum\n",
    "- split\n",
    "- splitline\n",
    "- join\n",
    "- count\n",
    "\n",
    "\n",
    "更详细的内容请参看 [官方文档](https://docs.python.org/zh-cn/3/library/string.html) 。"
   ]
  }
 ],
 "metadata": {
  "kernelspec": {
   "display_name": "Python 3",
   "language": "python",
   "name": "python3"
  },
  "language_info": {
   "codemirror_mode": {
    "name": "ipython",
    "version": 3
   },
   "file_extension": ".py",
   "mimetype": "text/x-python",
   "name": "python",
   "nbconvert_exporter": "python",
   "pygments_lexer": "ipython3",
   "version": "3.12.10"
  }
 },
 "nbformat": 4,
 "nbformat_minor": 5
}
