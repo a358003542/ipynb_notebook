{
 "cells": [
  {
   "cell_type": "markdown",
   "id": "27cf85ad",
   "metadata": {},
   "source": [
    "### 重要知识参考\n",
    "本notebook列出python中一些比较琐碎的知识，不需要记忆，所谓参考知识一般来说有需要查阅即可，只是这里列出的是最重要的一些，放在这里可以节省一些时间。"
   ]
  },
  {
   "cell_type": "markdown",
   "id": "ec7846ff",
   "metadata": {},
   "source": [
    "\n",
    "### PEP8\n",
    "\n",
    "PEP8代码风格规范是每个python程序员都应该了解的内容，其具体内容官方文档在 [这里](https://www.python.org/dev/peps/pep-0008/) 。\n",
    "\n",
    "关于空白和其他一些格式现在的编辑器加上插件都可以做到自动pep8格式调整，比如 autopep8 模块等。\n",
    "\n",
    "这里简单地说一下变量名的命名规范 ：\n",
    "\n",
    "\n",
    "- 字母都大写的变量，我们一般认为它是模块文件级别的常量，各单词用下划线隔开。\n",
    "\n",
    "- 首字母大写的我们一般认为它是类或者异常名字，多个单词的用驼峰写法表示。\n",
    "\n",
    "- 其他一律是小写字母，用下划线隔开。\n",
    "\n",
    "- 一般开发者不应该命名下划线开头的变量，你若这样写你必须知道自己在干什么。\n",
    "\n"
   ]
  },
  {
   "cell_type": "markdown",
   "id": "2a0b0f19",
   "metadata": {},
   "source": [
    "### The Zen of Python\n",
    "在python环境下运行 `import this` ，将会弹出以下python代码编写上推荐的原则：\n",
    "\n",
    "\n",
    "> The Zen of Python, by Tim Peters\n",
    "\n",
    "> Beautiful is better than ugly. <br/>\n",
    "Explicit is better than implicit. <br/>\n",
    "Simple is better than complex. <br/>\n",
    "Complex is better than complicated. <br/>\n",
    "Flat is better than nested. <br/>\n",
    "Sparse is better than dense. <br/>\n",
    "Readability counts. <br/>\n",
    "Special cases aren't special enough to break the rules. <br/>\n",
    "Although practicality beats purity. <br/>\n",
    "Errors should never pass silently. <br/>\n",
    "Unless explicitly silenced. <br/>\n",
    "In the face of ambiguity, refuse the temptation to guess. <br/>\n",
    "There should be one-- and preferably only one --obvious way to do it.  <br/>\n",
    "Although that way may not be obvious at first unless you're Dutch. <br/>\n",
    "Now is better than never. <br/>\n",
    "Although never is often better than *right* now. <br/>\n",
    "If the implementation is hard to explain, it's a bad idea. <br/>\n",
    "If the implementation is easy to explain, it may be a good idea. <br/>\n",
    "Namespaces are one honking great idea -- let's do more of those! <br/>\n",
    "\n"
   ]
  },
  {
   "cell_type": "markdown",
   "id": "d7e861a2",
   "metadata": {},
   "source": [
    "### python的模块查找顺序\n",
    "python的模块查找顺序：当前文件夹，built-in,PYTHONPATH,python安装地，总的来说就是根据sys.path这个列表变量来查找的。"
   ]
  },
  {
   "cell_type": "markdown",
   "id": "a4250a88",
   "metadata": {},
   "source": [
    "### 操作符优先级\n",
    "| Priority      | Operator | |\n",
    "| ----------- | ----------- | -----|\n",
    "| 1      | ~, +, -       |unary|\n",
    "| 2   | **        |  |\n",
    "| 3   | *, /, //, %        |  |\n",
    "| 4   | +, -        | binary  |\n",
    "| 5   | <<, >>        |  |\n",
    "| 6   | <, <=, >, >=        |  |\n",
    "| 7   | ==, !=        |  |\n",
    "| 8   | &        |  |\n",
    "| 9   | \\|        |  |\n",
    "| 10   | =, +=, -=, *=, /=, %=, &=, ^=, |=, >>=, <<=        |  |\n"
   ]
  }
 ],
 "metadata": {
  "language_info": {
   "name": "python"
  }
 },
 "nbformat": 4,
 "nbformat_minor": 5
}
