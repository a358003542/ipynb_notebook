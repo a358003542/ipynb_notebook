{
 "cells": [
  {
   "cell_type": "markdown",
   "id": "27cf85ad",
   "metadata": {},
   "source": [
    "### 重要知识参考\n",
    "本notebook列出python中一些比较琐碎的知识，不需要记忆，所谓参考知识一般来说有需要查阅即可，只是这里列出的是最重要的一些，放在这里可以节省一些时间。"
   ]
  },
  {
   "cell_type": "markdown",
   "id": "dce8117f",
   "metadata": {},
   "source": [
    "### locals和globals\n",
    "\n",
    "python的 `locals()` 返回本函数内的局部变量字典值，而 `globals()` 则返回本模块文件的全局变量。 `locals` 是只读的，而 `globals()` 不是，我们可以利用`globals()` 对脚本文件玩出一些新花样。"
   ]
  },
  {
   "cell_type": "markdown",
   "id": "474c4847",
   "metadata": {},
   "source": [
    "### `__name__` 和 `__file__`\n",
    "\n",
    "这里所谓脚本被引入是指用import或者from语句被另外一个脚本引入进去，而这里所谓的脚本被执行是指直接如 `python test.py` 这样的形式执行该py脚本。\n",
    "\n",
    "这两种形式很有一些区别，下面慢慢谈论:\n",
    "\n",
    "\n",
    "- `__name__` 的区别。这个大家应该很熟悉了。如果脚本是被引入的，`__name__` 的值是该引入的脚本文件名，比如引入的是 `test.py` ，那么该脚本被引入，对于这个test.py文件来说，其内的 `__name__` 的值就是 `test` ，也就是 **模块名**  ；而如果是作为脚本被执行，则该 `__name__` 是 `__main__` 。\n",
    "- `__file__` 的区别。如果脚本是被执行的，假设该脚本文件是 `hello.py` ，那么在这个被执行脚本中， `__file__` 的值是 `hello.py` ，也就是 **文件名** 。如果是被引用的，那么对于那个被引入的脚本来说， `__file__` 的值是该被引入脚本相对系统来说的 **完整文件名** ，比如是 `/home/wanze/桌面/hello.py` 。\n"
   ]
  },
  {
   "cell_type": "markdown",
   "id": "c0f82f63",
   "metadata": {},
   "source": [
    "### and or not的运算优先级\n",
    "\n",
    "\n",
    "1. not 的优先级最高\n",
    "2. and的优先级比or的高，比如下面这个例子，假设or的优先级比and的高那么应该返回的是False\n"
   ]
  },
  {
   "cell_type": "code",
   "execution_count": 1,
   "id": "76531f80",
   "metadata": {},
   "outputs": [
    {
     "data": {
      "text/plain": [
       "True"
      ]
     },
     "execution_count": 1,
     "metadata": {},
     "output_type": "execute_result"
    }
   ],
   "source": [
    "True or True and False"
   ]
  },
  {
   "cell_type": "markdown",
   "id": "d8bf837d",
   "metadata": {},
   "source": [
    "### all和any\n",
    "\n",
    "```python\n",
    "def all(iterable):\n",
    "    for element in iterable:\n",
    "        if not element:\n",
    "            return False\n",
    "    return True\n",
    "\n",
    "def any(iterable):\n",
    "    for element in iterable:\n",
    "        if element:\n",
    "            return True\n",
    "    return False\n",
    "```\n",
    "\n",
    "\n",
    "- all：都是True，则返回True，否则返回False\n",
    "- any：只要有一个True则返回True，否则返回False。"
   ]
  },
  {
   "cell_type": "markdown",
   "id": "ec7846ff",
   "metadata": {},
   "source": [
    "\n",
    "### PEP8\n",
    "\n",
    "PEP8代码风格规范是每个python程序员都应该了解的内容，其具体内容官方文档在 [这里](https://www.python.org/dev/peps/pep-0008/) 。\n",
    "\n",
    "关于空白和其他一些格式现在的编辑器加上插件都可以做到自动pep8格式调整，比如 autopep8 模块等。\n",
    "\n",
    "这里简单地说一下变量名的命名规范 ：\n",
    "\n",
    "\n",
    "- 字母都大写的变量，我们一般认为它是模块文件级别的常量，各单词用下划线隔开。\n",
    "\n",
    "- 首字母大写的我们一般认为它是类或者异常名字，多个单词的用驼峰写法表示。\n",
    "\n",
    "- 其他一律是小写字母，用下划线隔开。\n",
    "\n",
    "- 一般开发者不应该命名下划线开头的变量，你若这样写你必须知道自己在干什么。\n",
    "\n"
   ]
  },
  {
   "cell_type": "markdown",
   "id": "2a0b0f19",
   "metadata": {},
   "source": [
    "### The Zen of Python\n",
    "在python环境下运行 `import this` ，将会弹出以下python代码编写上推荐的原则：\n",
    "\n",
    "\n",
    "> The Zen of Python, by Tim Peters\n",
    "\n",
    "> Beautiful is better than ugly. <br/>\n",
    "Explicit is better than implicit. <br/>\n",
    "Simple is better than complex. <br/>\n",
    "Complex is better than complicated. <br/>\n",
    "Flat is better than nested. <br/>\n",
    "Sparse is better than dense. <br/>\n",
    "Readability counts. <br/>\n",
    "Special cases aren't special enough to break the rules. <br/>\n",
    "Although practicality beats purity. <br/>\n",
    "Errors should never pass silently. <br/>\n",
    "Unless explicitly silenced. <br/>\n",
    "In the face of ambiguity, refuse the temptation to guess. <br/>\n",
    "There should be one-- and preferably only one --obvious way to do it.  <br/>\n",
    "Although that way may not be obvious at first unless you're Dutch. <br/>\n",
    "Now is better than never. <br/>\n",
    "Although never is often better than *right* now. <br/>\n",
    "If the implementation is hard to explain, it's a bad idea. <br/>\n",
    "If the implementation is easy to explain, it may be a good idea. <br/>\n",
    "Namespaces are one honking great idea -- let's do more of those! <br/>\n",
    "\n"
   ]
  },
  {
   "cell_type": "markdown",
   "id": "d7e861a2",
   "metadata": {},
   "source": [
    "### python的模块查找顺序\n",
    "python的模块查找顺序：\n",
    "\n",
    "1. 当前文件夹\n",
    "2. built-in\n",
    "3. PYTHONPATH\n",
    "4. python安装地\n",
    "\n",
    "总的来说就是根据sys.path这个列表变量来查找的。"
   ]
  },
  {
   "cell_type": "markdown",
   "id": "a4250a88",
   "metadata": {},
   "source": [
    "### 操作符优先级\n",
    "| Priority      | Operator | |\n",
    "| ----------- | ----------- | -----|\n",
    "| 1      | ~, +, -       |unary|\n",
    "| 2   | **        |  |\n",
    "| 3   | *, /, //, %        |  |\n",
    "| 4   | +, -        | binary  |\n",
    "| 5   | <<, >>        |  |\n",
    "| 6   | <, <=, >, >=        |  |\n",
    "| 7   | ==, !=        |  |\n",
    "| 8   | &        |  |\n",
    "| 9   | \\|        |  |\n",
    "| 10   | =, +=, -=, *=, /=, %=, &=, ^=, \\|=, >>=, <<=        |  |\n"
   ]
  }
 ],
 "metadata": {
  "kernelspec": {
   "display_name": "Python 3",
   "language": "python",
   "name": "python3"
  },
  "language_info": {
   "codemirror_mode": {
    "name": "ipython",
    "version": 3
   },
   "file_extension": ".py",
   "mimetype": "text/x-python",
   "name": "python",
   "nbconvert_exporter": "python",
   "pygments_lexer": "ipython3",
   "version": "3.12.10"
  }
 },
 "nbformat": 4,
 "nbformat_minor": 5
}
