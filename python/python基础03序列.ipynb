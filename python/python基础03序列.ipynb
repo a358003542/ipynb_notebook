{
 "cells": [
  {
   "cell_type": "markdown",
   "id": "f2431d18",
   "metadata": {},
   "source": [
    "\n",
    "### 序列\n",
    "字符串，列表，元组都是序列（sequence）的子类，所以序列的一些性质它们都具有。"
   ]
  },
  {
   "cell_type": "markdown",
   "id": "ec8230c4",
   "metadata": {},
   "source": [
    "### len函数\n",
    "len函数该序列所含元素的个数："
   ]
  },
  {
   "cell_type": "code",
   "execution_count": 54,
   "id": "8d6def63",
   "metadata": {},
   "outputs": [
    {
     "name": "stdout",
     "output_type": "stream",
     "text": [
      "6\n"
     ]
    }
   ],
   "source": [
    "s1='string'\n",
    "print(len(s1))"
   ]
  },
  {
   "cell_type": "markdown",
   "id": "0ce02bff",
   "metadata": {},
   "source": [
    "### 索引\n",
    "某个序列S，如下索引操作：`S[index]` ，将取出序列中的某个值。\n",
    "\n",
    "- `index=0`表示第一个元素\n",
    "- `index=1`表示第二个元素，`index=2`表示第三个元素...\n",
    "- `index<0`，将会用值 `len(S)+index` 代替。比如下面的例子 `index=-1` ，进入程序之后将会替换为 `index=5`:\n"
   ]
  },
  {
   "cell_type": "code",
   "execution_count": 55,
   "id": "fff51d5d",
   "metadata": {},
   "outputs": [
    {
     "data": {
      "text/plain": [
       "'g'"
      ]
     },
     "execution_count": 55,
     "metadata": {},
     "output_type": "execute_result"
    }
   ],
   "source": [
    "s1=\"string\"\n",
    "s1[-1]"
   ]
  },
  {
   "cell_type": "code",
   "execution_count": 56,
   "id": "23f1b915",
   "metadata": {},
   "outputs": [
    {
     "name": "stdout",
     "output_type": "stream",
     "text": [
      "a c\n"
     ]
    }
   ],
   "source": [
    "lst1=['a','b','c']\n",
    "print(lst1[0], lst1[2])"
   ]
  },
  {
   "cell_type": "code",
   "execution_count": 57,
   "id": "5d421485",
   "metadata": {},
   "outputs": [
    {
     "name": "stdout",
     "output_type": "stream",
     "text": [
      "4 3\n"
     ]
    }
   ],
   "source": [
    "t1 = (1,2,3,4)\n",
    "print(t1[-1], t1[-2])"
   ]
  },
  {
   "cell_type": "markdown",
   "id": "37676803",
   "metadata": {},
   "source": [
    "### 常见切片\n",
    "某个序列S，执行如下常见切片操作：`S[start:stop]` ，将取出序列中的多个连续的值。\n",
    "\n",
    "- 如果start和stop给定值大于 `len(S)` ，将用 `len(S)`来代替之\n",
    "- start默认为0\n",
    "- stop默认为 `len(S)`\n",
    "\n",
    "对于常见切片，可以用数学半开区间 `[start, stop)` 来快速理解。"
   ]
  },
  {
   "cell_type": "code",
   "execution_count": 58,
   "id": "9d4d178b",
   "metadata": {},
   "outputs": [
    {
     "name": "stdout",
     "output_type": "stream",
     "text": [
      "tr n strin tring trin\n"
     ]
    }
   ],
   "source": [
    "s1 = \"string\"\n",
    "print(s1[1:3], s1[-2:-1], s1[:-1], s1[1:], s1[1:-1])"
   ]
  },
  {
   "cell_type": "markdown",
   "id": "fed8f99e",
   "metadata": {},
   "source": [
    "如果start>=stop，将会返回空值，如果是字符串则是空字符串，如果是列表，则是空列表...等等。"
   ]
  },
  {
   "cell_type": "code",
   "execution_count": 59,
   "id": "0924f3c3",
   "metadata": {},
   "outputs": [
    {
     "name": "stdout",
     "output_type": "stream",
     "text": [
      "\n",
      "<class 'str'>\n"
     ]
    }
   ],
   "source": [
    "s1 = \"string\"\n",
    "print(s1[2:2])\n",
    "print(type(s1[2:2]))"
   ]
  },
  {
   "cell_type": "markdown",
   "id": "68b45666",
   "metadata": {},
   "source": [
    "### 扩展切片\n",
    "某个序列S，执行如下扩展切片操作：`S[start:stop:step]` ，将取出序列中的多个的值。\n",
    "\n",
    "- step不能为0，step默认为1即上面的常见切片\n",
    "- start如果 `step>0` 默认为`0`；如果 `step<0` 默认为 `len(S)-1`\n",
    "- stop 如果 `step>0` 默认为`len(S)`；如果 `step<0` stop设为`-1` 【这个是程序内部机制，直接给定负值会被转换的】 \n",
    "- 如果`step>0`，如果start和stop给定值大于 `len(S)` ，将用 `len(S)`来代替之\n",
    "- 如果 `step<0`，如果start和stop给定值大于 `len(S)-1` ，将用 `len(S)-1`来代替之\n",
    "- 切片产生的索引值根据下面描述的逻辑产生：`index = start + n*step`， `n>=0` ，n从零开始逐渐加一递增，直到 `n < (stop-start)/step` 不再成立。\n",
    "\n",
    "总结就是对于 `step>0` ，直到 `index < stop` 不再成立；对于 `step<0` 直到 `index > stop` 不再成立。\n"
   ]
  },
  {
   "cell_type": "markdown",
   "id": "9b74f7e2",
   "metadata": {},
   "source": [
    "一个常见的应用是序列翻转操作："
   ]
  },
  {
   "cell_type": "code",
   "execution_count": 60,
   "id": "9350e9f0",
   "metadata": {},
   "outputs": [
    {
     "name": "stdout",
     "output_type": "stream",
     "text": [
      "(3, 2, 1)\n"
     ]
    }
   ],
   "source": [
    "t1 = (1,2,3)\n",
    "print(t1[::-1])"
   ]
  },
  {
   "cell_type": "code",
   "execution_count": 61,
   "id": "cce95d0f",
   "metadata": {},
   "outputs": [
    {
     "name": "stdout",
     "output_type": "stream",
     "text": [
      "[0, 1, 2, 3, 4, 5, 6, 7, 8, 9]\n",
      "range(9, -1, -1)\n",
      "[9, 8, 7, 6, 5, 4, 3, 2, 1, 0]\n"
     ]
    }
   ],
   "source": [
    "t2 = range(10)\n",
    "print(list(t2))\n",
    "print(t2[::-1]) \n",
    "print(list(t2[::-1]))"
   ]
  },
  {
   "cell_type": "code",
   "execution_count": 62,
   "id": "f79cbf1b",
   "metadata": {},
   "outputs": [
    {
     "name": "stdout",
     "output_type": "stream",
     "text": [
      "[0, 1, 2, 3, 4, 5, 6, 7, 8, 9]\n",
      "range(9, -1, -2)\n",
      "[9, 7, 5, 3, 1]\n"
     ]
    }
   ],
   "source": [
    "t2 = range(10)\n",
    "print(list(t2))\n",
    "print(t2[::-2]) \n",
    "print(list(t2[::-2]))"
   ]
  },
  {
   "cell_type": "code",
   "execution_count": 63,
   "id": "8841e673",
   "metadata": {},
   "outputs": [
    {
     "name": "stdout",
     "output_type": "stream",
     "text": [
      "[0, 1, 2, 3, 4, 5, 6, 7, 8, 9]\n",
      "range(0, 10, 3)\n",
      "[0, 3, 6, 9]\n"
     ]
    }
   ],
   "source": [
    "t2 = range(10)\n",
    "print(list(t2))\n",
    "print(t2[::3]) \n",
    "print(list(t2[::3]))"
   ]
  }
 ],
 "metadata": {
  "kernelspec": {
   "display_name": "Python 3",
   "language": "python",
   "name": "python3"
  },
  "language_info": {
   "codemirror_mode": {
    "name": "ipython",
    "version": 3
   },
   "file_extension": ".py",
   "mimetype": "text/x-python",
   "name": "python",
   "nbconvert_exporter": "python",
   "pygments_lexer": "ipython3",
   "version": "3.12.10"
  }
 },
 "nbformat": 4,
 "nbformat_minor": 5
}
