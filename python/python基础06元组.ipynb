{
 "cells": [
  {
   "cell_type": "markdown",
   "id": "7bab63f1",
   "metadata": {},
   "source": [
    "### 元组的用处\n",
    "\n",
    "圆括号包含几个元素就是元组(tuple)。元组和列表的不同在于元组是不可改变。元组也是从属于序列对象的，元组的很多方法之前都讲了。而且元组在使用上和列表极其接近，有很多内容这里也略过了。\n",
    "\n",
    "值得一提的是如果输入的时候写的是*x,y*这样的形式，实际上表达式就加上括号了，也就是一个元组了*(x,y)*。\n",
    "\n",
    "元组不可以直接更改。\n",
    "\n",
    "\n",
    "\n",
    "### 生成器表达式\n",
    "\n",
    "类似列表解析，如果元组在这里解析也是返回的元组吗？这里并不是如此，前面谈到python中一般表达式的圆括号是忽略了的，所以这里的元组解析表示式有个更专门的名字叫做生成器表达式，它返回的是生成器对象，和生成器函数具体调用之后返回的对象是一样的。生成器对象具有`__next__`方法，可以调用next函数。\n",
    "\n",
    "    >>> x = [i for i in [1,2,3]]\n",
    "    >>> x\n",
    "    [1, 2, 3]\n",
    "    >>> y = (i for i in [1,2,3])\n",
    "    >>> y\n",
    "    <generator object <genexpr> at 0xb70dbe8c>"
   ]
  },
  {
   "cell_type": "code",
   "execution_count": 1,
   "id": "bf047282",
   "metadata": {},
   "outputs": [
    {
     "name": "stdout",
     "output_type": "stream",
     "text": [
      "(1, 2, 3, 1, 2, 3)\n"
     ]
    }
   ],
   "source": [
    "print((1,2,3) * 2)"
   ]
  }
 ],
 "metadata": {
  "kernelspec": {
   "display_name": "Python 3",
   "language": "python",
   "name": "python3"
  },
  "language_info": {
   "codemirror_mode": {
    "name": "ipython",
    "version": 3
   },
   "file_extension": ".py",
   "mimetype": "text/x-python",
   "name": "python",
   "nbconvert_exporter": "python",
   "pygments_lexer": "ipython3",
   "version": "3.12.10"
  }
 },
 "nbformat": 4,
 "nbformat_minor": 5
}
